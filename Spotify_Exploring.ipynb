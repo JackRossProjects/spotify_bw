{
  "nbformat": 4,
  "nbformat_minor": 0,
  "metadata": {
    "colab": {
      "name": "Spotify-Exploring.ipynb",
      "provenance": []
    },
    "kernelspec": {
      "name": "python3",
      "display_name": "Python 3"
    }
  },
  "cells": [
    {
      "cell_type": "code",
      "metadata": {
        "id": "mmCqFURgXCpp",
        "colab_type": "code",
        "colab": {}
      },
      "source": [
        ""
      ],
      "execution_count": 0,
      "outputs": []
    },
    {
      "cell_type": "code",
      "metadata": {
        "id": "BLwyHvau6Z-f",
        "colab_type": "code",
        "colab": {}
      },
      "source": [
        "%%capture\n",
        "\n",
        "!pip install minisom\n",
        "!pip install spotipy"
      ],
      "execution_count": 0,
      "outputs": []
    },
    {
      "cell_type": "code",
      "metadata": {
        "id": "r6mUtuT06Z-i",
        "colab_type": "code",
        "outputId": "a2084c64-3308-465f-86b1-6972098e094e",
        "colab": {
          "base_uri": "https://localhost:8080/",
          "height": 52
        }
      },
      "source": [
        "import pandas as pd\n",
        "import numpy as np\n",
        "from sklearn.preprocessing import MinMaxScaler\n",
        "from minisom import MiniSom\n",
        "import matplotlib.pyplot as plt\n",
        "from sklearn.cluster import KMeans\n",
        "from sklearn.decomposition import PCA\n",
        "import seaborn as sns\n",
        "import pickle\n",
        "from sklearn.manifold import TSNE\n",
        "from sklearn.model_selection import train_test_split\n",
        "from tensorflow.keras.utils import to_categorical\n",
        "import tensorflow as tf\n",
        "from tensorflow.keras.models import Sequential\n",
        "from tensorflow.keras.layers import Input, Dense, Activation\n",
        "from spotipy.oauth2 import SpotifyClientCredentials\n",
        "import spotipy\n",
        "import json"
      ],
      "execution_count": 2,
      "outputs": [
        {
          "output_type": "stream",
          "text": [
            "/usr/local/lib/python3.6/dist-packages/statsmodels/tools/_testing.py:19: FutureWarning: pandas.util.testing is deprecated. Use the functions in the public API at pandas.testing instead.\n",
            "  import pandas.util.testing as tm\n"
          ],
          "name": "stderr"
        }
      ]
    },
    {
      "cell_type": "code",
      "metadata": {
        "id": "xE0E7gZn6Z-k",
        "colab_type": "code",
        "colab": {}
      },
      "source": [
        "# kaggle data loaded from github repo\n",
        "\n",
        "songs = pd.read_csv('https://raw.githubusercontent.com/Jllin50/DS/master/data/song_data.csv')\n",
        "song_info = pd.read_csv('https://raw.githubusercontent.com/Jllin50/DS/master/data/song_info.csv')"
      ],
      "execution_count": 0,
      "outputs": []
    },
    {
      "cell_type": "code",
      "metadata": {
        "id": "6HnS4nvJ6Z-o",
        "colab_type": "code",
        "outputId": "225b86dc-9ab5-4297-dd63-f891b5961a04",
        "colab": {
          "base_uri": "https://localhost:8080/",
          "height": 202
        }
      },
      "source": [
        "songs.head()"
      ],
      "execution_count": 4,
      "outputs": [
        {
          "output_type": "execute_result",
          "data": {
            "text/html": [
              "<div>\n",
              "<style scoped>\n",
              "    .dataframe tbody tr th:only-of-type {\n",
              "        vertical-align: middle;\n",
              "    }\n",
              "\n",
              "    .dataframe tbody tr th {\n",
              "        vertical-align: top;\n",
              "    }\n",
              "\n",
              "    .dataframe thead th {\n",
              "        text-align: right;\n",
              "    }\n",
              "</style>\n",
              "<table border=\"1\" class=\"dataframe\">\n",
              "  <thead>\n",
              "    <tr style=\"text-align: right;\">\n",
              "      <th></th>\n",
              "      <th>song_name</th>\n",
              "      <th>song_popularity</th>\n",
              "      <th>song_duration_ms</th>\n",
              "      <th>acousticness</th>\n",
              "      <th>danceability</th>\n",
              "      <th>energy</th>\n",
              "      <th>instrumentalness</th>\n",
              "      <th>key</th>\n",
              "      <th>liveness</th>\n",
              "      <th>loudness</th>\n",
              "      <th>audio_mode</th>\n",
              "      <th>speechiness</th>\n",
              "      <th>tempo</th>\n",
              "      <th>time_signature</th>\n",
              "      <th>audio_valence</th>\n",
              "    </tr>\n",
              "  </thead>\n",
              "  <tbody>\n",
              "    <tr>\n",
              "      <th>0</th>\n",
              "      <td>Boulevard of Broken Dreams</td>\n",
              "      <td>73</td>\n",
              "      <td>262333</td>\n",
              "      <td>0.005520</td>\n",
              "      <td>0.496</td>\n",
              "      <td>0.682</td>\n",
              "      <td>0.000029</td>\n",
              "      <td>8</td>\n",
              "      <td>0.0589</td>\n",
              "      <td>-4.095</td>\n",
              "      <td>1</td>\n",
              "      <td>0.0294</td>\n",
              "      <td>167.060</td>\n",
              "      <td>4</td>\n",
              "      <td>0.474</td>\n",
              "    </tr>\n",
              "    <tr>\n",
              "      <th>1</th>\n",
              "      <td>In The End</td>\n",
              "      <td>66</td>\n",
              "      <td>216933</td>\n",
              "      <td>0.010300</td>\n",
              "      <td>0.542</td>\n",
              "      <td>0.853</td>\n",
              "      <td>0.000000</td>\n",
              "      <td>3</td>\n",
              "      <td>0.1080</td>\n",
              "      <td>-6.407</td>\n",
              "      <td>0</td>\n",
              "      <td>0.0498</td>\n",
              "      <td>105.256</td>\n",
              "      <td>4</td>\n",
              "      <td>0.370</td>\n",
              "    </tr>\n",
              "    <tr>\n",
              "      <th>2</th>\n",
              "      <td>Seven Nation Army</td>\n",
              "      <td>76</td>\n",
              "      <td>231733</td>\n",
              "      <td>0.008170</td>\n",
              "      <td>0.737</td>\n",
              "      <td>0.463</td>\n",
              "      <td>0.447000</td>\n",
              "      <td>0</td>\n",
              "      <td>0.2550</td>\n",
              "      <td>-7.828</td>\n",
              "      <td>1</td>\n",
              "      <td>0.0792</td>\n",
              "      <td>123.881</td>\n",
              "      <td>4</td>\n",
              "      <td>0.324</td>\n",
              "    </tr>\n",
              "    <tr>\n",
              "      <th>3</th>\n",
              "      <td>By The Way</td>\n",
              "      <td>74</td>\n",
              "      <td>216933</td>\n",
              "      <td>0.026400</td>\n",
              "      <td>0.451</td>\n",
              "      <td>0.970</td>\n",
              "      <td>0.003550</td>\n",
              "      <td>0</td>\n",
              "      <td>0.1020</td>\n",
              "      <td>-4.938</td>\n",
              "      <td>1</td>\n",
              "      <td>0.1070</td>\n",
              "      <td>122.444</td>\n",
              "      <td>4</td>\n",
              "      <td>0.198</td>\n",
              "    </tr>\n",
              "    <tr>\n",
              "      <th>4</th>\n",
              "      <td>How You Remind Me</td>\n",
              "      <td>56</td>\n",
              "      <td>223826</td>\n",
              "      <td>0.000954</td>\n",
              "      <td>0.447</td>\n",
              "      <td>0.766</td>\n",
              "      <td>0.000000</td>\n",
              "      <td>10</td>\n",
              "      <td>0.1130</td>\n",
              "      <td>-5.065</td>\n",
              "      <td>1</td>\n",
              "      <td>0.0313</td>\n",
              "      <td>172.011</td>\n",
              "      <td>4</td>\n",
              "      <td>0.574</td>\n",
              "    </tr>\n",
              "  </tbody>\n",
              "</table>\n",
              "</div>"
            ],
            "text/plain": [
              "                    song_name  song_popularity  ...  time_signature  audio_valence\n",
              "0  Boulevard of Broken Dreams               73  ...               4          0.474\n",
              "1                  In The End               66  ...               4          0.370\n",
              "2           Seven Nation Army               76  ...               4          0.324\n",
              "3                  By The Way               74  ...               4          0.198\n",
              "4           How You Remind Me               56  ...               4          0.574\n",
              "\n",
              "[5 rows x 15 columns]"
            ]
          },
          "metadata": {
            "tags": []
          },
          "execution_count": 4
        }
      ]
    },
    {
      "cell_type": "markdown",
      "metadata": {
        "id": "ZO5VfO_IXMe-",
        "colab_type": "text"
      },
      "source": [
        "#PREP DATA"
      ]
    },
    {
      "cell_type": "code",
      "metadata": {
        "id": "G3I3fGoT6Z-r",
        "colab_type": "code",
        "colab": {}
      },
      "source": [
        "songs = songs.rename(columns={'audio_valence': 'valence'})"
      ],
      "execution_count": 0,
      "outputs": []
    },
    {
      "cell_type": "code",
      "metadata": {
        "id": "soFMUSjt6Z-t",
        "colab_type": "code",
        "colab": {}
      },
      "source": [
        "songs.insert(loc=1, column='song_artist', value=song_info['artist_name'])"
      ],
      "execution_count": 0,
      "outputs": []
    },
    {
      "cell_type": "code",
      "metadata": {
        "id": "ltWcRDfT6Z-w",
        "colab_type": "code",
        "colab": {}
      },
      "source": [
        "songs = songs.drop(labels=['song_popularity', 'song_duration_ms', 'key', 'audio_mode'], axis=1)"
      ],
      "execution_count": 0,
      "outputs": []
    },
    {
      "cell_type": "code",
      "metadata": {
        "id": "neGDOj6TpDTx",
        "colab_type": "code",
        "colab": {}
      },
      "source": [
        "songs = songs.drop_duplicates(subset=['song_name', 'song_artist'])"
      ],
      "execution_count": 0,
      "outputs": []
    },
    {
      "cell_type": "code",
      "metadata": {
        "id": "lEv7OWp91c-W",
        "colab_type": "code",
        "outputId": "68151902-c0e5-44d3-db71-ab3ed81bd6d7",
        "colab": {
          "base_uri": "https://localhost:8080/",
          "height": 86
        }
      },
      "source": [
        "#rearranging the columns\n",
        "cols = ['song_name', 'song_artist', 'danceability', 'energy', 'loudness', 'speechiness', 'acousticness', 'instrumentalness', 'liveness', 'valence', 'tempo', 'time_signature']\n",
        "songs = songs[cols]\n",
        "songs.columns"
      ],
      "execution_count": 9,
      "outputs": [
        {
          "output_type": "execute_result",
          "data": {
            "text/plain": [
              "Index(['song_name', 'song_artist', 'danceability', 'energy', 'loudness',\n",
              "       'speechiness', 'acousticness', 'instrumentalness', 'liveness',\n",
              "       'valence', 'tempo', 'time_signature'],\n",
              "      dtype='object')"
            ]
          },
          "metadata": {
            "tags": []
          },
          "execution_count": 9
        }
      ]
    },
    {
      "cell_type": "code",
      "metadata": {
        "id": "jlE3Tg3IiFoz",
        "colab_type": "code",
        "colab": {}
      },
      "source": [
        "features = songs.drop(labels=['song_name', 'song_artist'], axis=1)"
      ],
      "execution_count": 0,
      "outputs": []
    },
    {
      "cell_type": "code",
      "metadata": {
        "id": "yslWclqtx7iw",
        "colab_type": "code",
        "colab": {}
      },
      "source": [
        "scaler = MinMaxScaler()\n",
        "features_scaled = scaler.fit_transform(features)"
      ],
      "execution_count": 0,
      "outputs": []
    },
    {
      "cell_type": "code",
      "metadata": {
        "id": "8zUqEhkzB9Lr",
        "colab_type": "code",
        "colab": {}
      },
      "source": [
        "songs_scaled = songs.join(pd.DataFrame(features_scaled)).drop(\n",
        "    labels=features.columns, axis=1)\n",
        "\n",
        "songs_scaled = songs_scaled.rename(\n",
        "    columns={0: features.columns[0],\n",
        "             1: features.columns[1],\n",
        "             2: features.columns[2],\n",
        "             3: features.columns[3],\n",
        "             4: features.columns[4],\n",
        "             5: features.columns[5],\n",
        "             6: features.columns[6],\n",
        "             7: features.columns[7],\n",
        "             8: features.columns[8],\n",
        "             9: features.columns[9]})"
      ],
      "execution_count": 0,
      "outputs": []
    },
    {
      "cell_type": "code",
      "metadata": {
        "id": "3KP5UoS9Cl-U",
        "colab_type": "code",
        "colab": {}
      },
      "source": [
        "songs_scaled = songs_scaled.dropna()"
      ],
      "execution_count": 0,
      "outputs": []
    },
    {
      "cell_type": "code",
      "metadata": {
        "id": "c2dh33wGCuvj",
        "colab_type": "code",
        "outputId": "d2d89a5a-ff57-4ec0-e36c-03556bb3c8ec",
        "colab": {
          "base_uri": "https://localhost:8080/",
          "height": 416
        }
      },
      "source": [
        "songs_scaled"
      ],
      "execution_count": 14,
      "outputs": [
        {
          "output_type": "execute_result",
          "data": {
            "text/html": [
              "<div>\n",
              "<style scoped>\n",
              "    .dataframe tbody tr th:only-of-type {\n",
              "        vertical-align: middle;\n",
              "    }\n",
              "\n",
              "    .dataframe tbody tr th {\n",
              "        vertical-align: top;\n",
              "    }\n",
              "\n",
              "    .dataframe thead th {\n",
              "        text-align: right;\n",
              "    }\n",
              "</style>\n",
              "<table border=\"1\" class=\"dataframe\">\n",
              "  <thead>\n",
              "    <tr style=\"text-align: right;\">\n",
              "      <th></th>\n",
              "      <th>song_name</th>\n",
              "      <th>song_artist</th>\n",
              "      <th>danceability</th>\n",
              "      <th>energy</th>\n",
              "      <th>loudness</th>\n",
              "      <th>speechiness</th>\n",
              "      <th>acousticness</th>\n",
              "      <th>instrumentalness</th>\n",
              "      <th>liveness</th>\n",
              "      <th>valence</th>\n",
              "      <th>tempo</th>\n",
              "      <th>time_signature</th>\n",
              "    </tr>\n",
              "  </thead>\n",
              "  <tbody>\n",
              "    <tr>\n",
              "      <th>0</th>\n",
              "      <td>Boulevard of Broken Dreams</td>\n",
              "      <td>Green Day</td>\n",
              "      <td>0.502533</td>\n",
              "      <td>0.682342</td>\n",
              "      <td>0.859242</td>\n",
              "      <td>0.031243</td>\n",
              "      <td>0.005541</td>\n",
              "      <td>0.000029</td>\n",
              "      <td>0.049226</td>\n",
              "      <td>0.481707</td>\n",
              "      <td>0.689425</td>\n",
              "      <td>0.8</td>\n",
              "    </tr>\n",
              "    <tr>\n",
              "      <th>1</th>\n",
              "      <td>In The End</td>\n",
              "      <td>Linkin Park</td>\n",
              "      <td>0.549139</td>\n",
              "      <td>0.853697</td>\n",
              "      <td>0.801948</td>\n",
              "      <td>0.052922</td>\n",
              "      <td>0.010340</td>\n",
              "      <td>0.000000</td>\n",
              "      <td>0.099580</td>\n",
              "      <td>0.376016</td>\n",
              "      <td>0.434371</td>\n",
              "      <td>0.8</td>\n",
              "    </tr>\n",
              "    <tr>\n",
              "      <th>2</th>\n",
              "      <td>Seven Nation Army</td>\n",
              "      <td>The White Stripes</td>\n",
              "      <td>0.746707</td>\n",
              "      <td>0.462888</td>\n",
              "      <td>0.766734</td>\n",
              "      <td>0.084166</td>\n",
              "      <td>0.008202</td>\n",
              "      <td>0.448345</td>\n",
              "      <td>0.250333</td>\n",
              "      <td>0.329268</td>\n",
              "      <td>0.511233</td>\n",
              "      <td>0.8</td>\n",
              "    </tr>\n",
              "    <tr>\n",
              "      <th>3</th>\n",
              "      <td>By The Way</td>\n",
              "      <td>Red Hot Chili Peppers</td>\n",
              "      <td>0.456940</td>\n",
              "      <td>0.970940</td>\n",
              "      <td>0.838352</td>\n",
              "      <td>0.113709</td>\n",
              "      <td>0.026505</td>\n",
              "      <td>0.003561</td>\n",
              "      <td>0.093426</td>\n",
              "      <td>0.201220</td>\n",
              "      <td>0.505303</td>\n",
              "      <td>0.8</td>\n",
              "    </tr>\n",
              "    <tr>\n",
              "      <th>4</th>\n",
              "      <td>How You Remind Me</td>\n",
              "      <td>Nickelback</td>\n",
              "      <td>0.452888</td>\n",
              "      <td>0.766517</td>\n",
              "      <td>0.835204</td>\n",
              "      <td>0.033262</td>\n",
              "      <td>0.000957</td>\n",
              "      <td>0.000000</td>\n",
              "      <td>0.104707</td>\n",
              "      <td>0.583333</td>\n",
              "      <td>0.709856</td>\n",
              "      <td>0.8</td>\n",
              "    </tr>\n",
              "    <tr>\n",
              "      <th>...</th>\n",
              "      <td>...</td>\n",
              "      <td>...</td>\n",
              "      <td>...</td>\n",
              "      <td>...</td>\n",
              "      <td>...</td>\n",
              "      <td>...</td>\n",
              "      <td>...</td>\n",
              "      <td>...</td>\n",
              "      <td>...</td>\n",
              "      <td>...</td>\n",
              "      <td>...</td>\n",
              "      <td>...</td>\n",
              "    </tr>\n",
              "    <tr>\n",
              "      <th>13999</th>\n",
              "      <td>Replay</td>\n",
              "      <td>Zendaya</td>\n",
              "      <td>0.374873</td>\n",
              "      <td>0.135210</td>\n",
              "      <td>0.625480</td>\n",
              "      <td>0.046015</td>\n",
              "      <td>0.901606</td>\n",
              "      <td>0.000264</td>\n",
              "      <td>0.091273</td>\n",
              "      <td>0.060163</td>\n",
              "      <td>0.602848</td>\n",
              "      <td>0.8</td>\n",
              "    </tr>\n",
              "    <tr>\n",
              "      <th>14000</th>\n",
              "      <td>Where Are Ü Now (with Justin Bieber)</td>\n",
              "      <td>Jack Ü</td>\n",
              "      <td>0.652482</td>\n",
              "      <td>0.523013</td>\n",
              "      <td>0.770897</td>\n",
              "      <td>0.040170</td>\n",
              "      <td>0.396586</td>\n",
              "      <td>0.000000</td>\n",
              "      <td>0.084196</td>\n",
              "      <td>0.452236</td>\n",
              "      <td>0.396033</td>\n",
              "      <td>0.8</td>\n",
              "    </tr>\n",
              "    <tr>\n",
              "      <th>14001</th>\n",
              "      <td>The Heart Wants What It Wants</td>\n",
              "      <td>Selena Gomez</td>\n",
              "      <td>0.506586</td>\n",
              "      <td>0.150241</td>\n",
              "      <td>0.561569</td>\n",
              "      <td>0.036982</td>\n",
              "      <td>0.896586</td>\n",
              "      <td>0.000066</td>\n",
              "      <td>0.102656</td>\n",
              "      <td>0.304878</td>\n",
              "      <td>0.470328</td>\n",
              "      <td>0.8</td>\n",
              "    </tr>\n",
              "    <tr>\n",
              "      <th>14002</th>\n",
              "      <td>Thotful</td>\n",
              "      <td>Cody Simpson</td>\n",
              "      <td>0.501520</td>\n",
              "      <td>0.160262</td>\n",
              "      <td>0.611850</td>\n",
              "      <td>0.031987</td>\n",
              "      <td>0.768072</td>\n",
              "      <td>0.000001</td>\n",
              "      <td>0.096503</td>\n",
              "      <td>0.269309</td>\n",
              "      <td>0.389100</td>\n",
              "      <td>0.8</td>\n",
              "    </tr>\n",
              "    <tr>\n",
              "      <th>14005</th>\n",
              "      <td>Hail to the King</td>\n",
              "      <td>Avenged Sevenfold</td>\n",
              "      <td>0.648430</td>\n",
              "      <td>0.380718</td>\n",
              "      <td>0.668550</td>\n",
              "      <td>0.032094</td>\n",
              "      <td>0.914659</td>\n",
              "      <td>0.000255</td>\n",
              "      <td>0.095477</td>\n",
              "      <td>0.590447</td>\n",
              "      <td>0.377562</td>\n",
              "      <td>0.8</td>\n",
              "    </tr>\n",
              "  </tbody>\n",
              "</table>\n",
              "<p>11088 rows × 12 columns</p>\n",
              "</div>"
            ],
            "text/plain": [
              "                                  song_name  ... time_signature\n",
              "0                Boulevard of Broken Dreams  ...            0.8\n",
              "1                                In The End  ...            0.8\n",
              "2                         Seven Nation Army  ...            0.8\n",
              "3                                By The Way  ...            0.8\n",
              "4                         How You Remind Me  ...            0.8\n",
              "...                                     ...  ...            ...\n",
              "13999                                Replay  ...            0.8\n",
              "14000  Where Are Ü Now (with Justin Bieber)  ...            0.8\n",
              "14001         The Heart Wants What It Wants  ...            0.8\n",
              "14002                               Thotful  ...            0.8\n",
              "14005                      Hail to the King  ...            0.8\n",
              "\n",
              "[11088 rows x 12 columns]"
            ]
          },
          "metadata": {
            "tags": []
          },
          "execution_count": 14
        }
      ]
    },
    {
      "cell_type": "markdown",
      "metadata": {
        "id": "UrCNBuT1XYGw",
        "colab_type": "text"
      },
      "source": [
        "# kmeans"
      ]
    },
    {
      "cell_type": "code",
      "metadata": {
        "id": "eeh_68vV6Z_A",
        "colab_type": "code",
        "colab": {}
      },
      "source": [
        "\n",
        "Sum_of_squared_distances = []\n",
        "K = range(1,15)\n",
        "for k in K:\n",
        "    km = KMeans(n_clusters=k)\n",
        "    km = km.fit(features_scaled)\n",
        "    Sum_of_squared_distances.append(km.inertia_)"
      ],
      "execution_count": 0,
      "outputs": []
    },
    {
      "cell_type": "code",
      "metadata": {
        "id": "ucD_eioW6Z_C",
        "colab_type": "code",
        "outputId": "bfb60f1c-2b11-4356-be09-437a5e258321",
        "colab": {
          "base_uri": "https://localhost:8080/",
          "height": 242
        }
      },
      "source": [
        "from sklearn.metrics import silhouette_score\n",
        "\n",
        "# Alternative scoring to elbow plot\n",
        "\n",
        "for n_clusters in range(2,15):\n",
        "    clusterer = KMeans (n_clusters=n_clusters)\n",
        "    preds = clusterer.fit_predict(features_scaled)\n",
        "    centers = clusterer.cluster_centers_\n",
        "\n",
        "    score = silhouette_score (features_scaled, preds, metric='euclidean')\n",
        "    print (f'n_clusters = {n_clusters}, silhouette score = {score})')"
      ],
      "execution_count": 16,
      "outputs": [
        {
          "output_type": "stream",
          "text": [
            "n_clusters = 2, silhouette score = 0.3305319775222961)\n",
            "n_clusters = 3, silhouette score = 0.3031183585447442)\n",
            "n_clusters = 4, silhouette score = 0.21299936715035422)\n",
            "n_clusters = 5, silhouette score = 0.22913173496939226)\n",
            "n_clusters = 6, silhouette score = 0.21388880975655164)\n",
            "n_clusters = 7, silhouette score = 0.20393966926310061)\n",
            "n_clusters = 8, silhouette score = 0.20605599306706285)\n",
            "n_clusters = 9, silhouette score = 0.18341771266118848)\n",
            "n_clusters = 10, silhouette score = 0.18672140474020665)\n",
            "n_clusters = 11, silhouette score = 0.16436836763542362)\n",
            "n_clusters = 12, silhouette score = 0.15515517641392831)\n",
            "n_clusters = 13, silhouette score = 0.153743255279205)\n",
            "n_clusters = 14, silhouette score = 0.1471275286812563)\n"
          ],
          "name": "stdout"
        }
      ]
    },
    {
      "cell_type": "code",
      "metadata": {
        "id": "o37i67Ai6Z_E",
        "colab_type": "code",
        "outputId": "ccd4ed40-3a47-499d-b23b-6e10980d59d9",
        "colab": {
          "base_uri": "https://localhost:8080/",
          "height": 294
        }
      },
      "source": [
        "# elbow plot\n",
        "\n",
        "plt.plot(K, Sum_of_squared_distances, 'gx-')\n",
        "plt.xlabel('k')\n",
        "plt.ylabel('Sum_of_squared_distances')\n",
        "plt.ylim(2000, 7000)\n",
        "plt.title('Elbow Method For Optimal k')\n",
        "plt.show()"
      ],
      "execution_count": 17,
      "outputs": [
        {
          "output_type": "display_data",
          "data": {
            "image/png": "[encoded data removed]",
            "text/plain": [
              "<Figure size 432x288 with 1 Axes>"
            ]
          },
          "metadata": {
            "tags": [],
            "needs_background": "light"
          }
        }
      ]
    },
    {
      "cell_type": "code",
      "metadata": {
        "id": "ipFT2Z2A6Z_G",
        "colab_type": "code",
        "outputId": "ff14c5c0-38d7-424f-e62e-11509f54a982",
        "colab": {
          "base_uri": "https://localhost:8080/",
          "height": 69
        }
      },
      "source": [
        "# setting for reproducibility\n",
        "\n",
        "np.random.seed(42)\n",
        "\n",
        "# implementing kmeans\n",
        "\n",
        "kmeans = KMeans(n_clusters=7)\n",
        "kmeans.fit(features_scaled)"
      ],
      "execution_count": 18,
      "outputs": [
        {
          "output_type": "execute_result",
          "data": {
            "text/plain": [
              "KMeans(algorithm='auto', copy_x=True, init='k-means++', max_iter=300,\n",
              "       n_clusters=7, n_init=10, n_jobs=None, precompute_distances='auto',\n",
              "       random_state=None, tol=0.0001, verbose=0)"
            ]
          },
          "metadata": {
            "tags": []
          },
          "execution_count": 18
        }
      ]
    },
    {
      "cell_type": "code",
      "metadata": {
        "id": "O1ERNz9R6Z_L",
        "colab_type": "code",
        "colab": {}
      },
      "source": [
        "# pulling cluster labels from kmeans\n",
        "y_kmeans = kmeans.predict(features_scaled)"
      ],
      "execution_count": 0,
      "outputs": []
    },
    {
      "cell_type": "code",
      "metadata": {
        "id": "Nf0IBcUd6Z_O",
        "colab_type": "code",
        "colab": {
          "base_uri": "https://localhost:8080/",
          "height": 369
        },
        "outputId": "d425c8d5-bff7-4a7a-f7b3-007a7bf6fce6"
      },
      "source": [
        "# pca to project into 2-D\n",
        "\n",
        "pca = PCA(n_components=2)\n",
        "principal_components = pca.fit_transform(features_scaled)\n",
        "\n",
        "# plotting clusters\n",
        "\n",
        "pc = pd.DataFrame(principal_components)\n",
        "pc['label'] = y_kmeans\n",
        "pc.columns = ['x', 'y','label']\n",
        "\n",
        "cluster = sns.lmplot(data=pc, x='x', y='y', hue='label', \n",
        "                   fit_reg=False, legend=True, legend_out=True)"
      ],
      "execution_count": 20,
      "outputs": [
        {
          "output_type": "display_data",
          "data": {
            "image/png": "[encoded data removed]",
            "text/plain": [
              "<Figure size 402.375x360 with 1 Axes>"
            ]
          },
          "metadata": {
            "tags": [],
            "needs_background": "light"
          }
        }
      ]
    },
    {
      "cell_type": "markdown",
      "metadata": {
        "id": "uCxh0_-y6Z_Q",
        "colab_type": "text"
      },
      "source": [
        "### Visualizing clusters using t-distributed Stochastic Neighbor Embedding"
      ]
    },
    {
      "cell_type": "code",
      "metadata": {
        "id": "5_jFk9Eh6Z_R",
        "colab_type": "code",
        "outputId": "0ec04901-6e30-4181-c8b0-58e5ff3733f8",
        "colab": {
          "base_uri": "https://localhost:8080/",
          "height": 401
        }
      },
      "source": [
        "tsne = TSNE(n_components=2, perplexity=30, n_jobs=-2, n_iter=250, verbose=1)\n",
        "\n",
        "tsne_components = tsne.fit_transform(features_scaled)"
      ],
      "execution_count": 24,
      "outputs": [
        {
          "output_type": "stream",
          "text": [
            "[t-SNE] Computing 91 nearest neighbors...\n",
            "[t-SNE] Indexed 14006 samples in 0.030s...\n",
            "[t-SNE] Computed neighbors for 14006 samples in 2.628s...\n",
            "[t-SNE] Computed conditional probabilities for sample 1000 / 14006\n",
            "[t-SNE] Computed conditional probabilities for sample 2000 / 14006\n",
            "[t-SNE] Computed conditional probabilities for sample 3000 / 14006\n",
            "[t-SNE] Computed conditional probabilities for sample 4000 / 14006\n",
            "[t-SNE] Computed conditional probabilities for sample 5000 / 14006\n",
            "[t-SNE] Computed conditional probabilities for sample 6000 / 14006\n",
            "[t-SNE] Computed conditional probabilities for sample 7000 / 14006\n",
            "[t-SNE] Computed conditional probabilities for sample 8000 / 14006\n",
            "[t-SNE] Computed conditional probabilities for sample 9000 / 14006\n",
            "[t-SNE] Computed conditional probabilities for sample 10000 / 14006\n",
            "[t-SNE] Computed conditional probabilities for sample 11000 / 14006\n",
            "[t-SNE] Computed conditional probabilities for sample 12000 / 14006\n",
            "[t-SNE] Computed conditional probabilities for sample 13000 / 14006\n",
            "[t-SNE] Computed conditional probabilities for sample 14000 / 14006\n",
            "[t-SNE] Computed conditional probabilities for sample 14006 / 14006\n",
            "[t-SNE] Mean sigma: 0.088129\n",
            "[t-SNE] KL divergence after 250 iterations with early exaggeration: 91.193268\n",
            "[t-SNE] KL divergence after 251 iterations: 179769313486231570814527423731704356798070567525844996598917476803157260780028538760589558632766878171540458953514382464234321326889464182768467546703537516986049910576551282076245490090389328944075868508455133942304583236903222948165808559332123348274797826204144723168738177180919299881250404026184124858368.000000\n"
          ],
          "name": "stdout"
        }
      ]
    },
    {
      "cell_type": "code",
      "metadata": {
        "id": "QDGgnq8q6Z_T",
        "colab_type": "code",
        "colab": {
          "base_uri": "https://localhost:8080/",
          "height": 369
        },
        "outputId": "a4ed57bc-66c4-4012-d15b-4778dc869331"
      },
      "source": [
        "# plotting clusters\n",
        "\n",
        "ts = pd.DataFrame(tsne_components)\n",
        "ts['label'] = y_kmeans\n",
        "ts.columns = ['x', 'y','label']\n",
        "\n",
        "cluster = sns.lmplot(data=ts, x='x', y='y', hue='label', \n",
        "                   fit_reg=False, legend=True, legend_out=True)"
      ],
      "execution_count": 25,
      "outputs": [
        {
          "output_type": "display_data",
          "data": {
            "image/png": "[encoded data removed]",
            "text/plain": [
              "<Figure size 402.375x360 with 1 Axes>"
            ]
          },
          "metadata": {
            "tags": [],
            "needs_background": "light"
          }
        }
      ]
    },
    {
      "cell_type": "markdown",
      "metadata": {
        "id": "p63JN7HNXt2u",
        "colab_type": "text"
      },
      "source": [
        "# Predict labels with neural net"
      ]
    },
    {
      "cell_type": "code",
      "metadata": {
        "id": "2flufW976Z_W",
        "colab_type": "code",
        "outputId": "d5d2fa98-712c-447d-b317-d4b5e19952d7",
        "colab": {
          "base_uri": "https://localhost:8080/",
          "height": 156
        }
      },
      "source": [
        "songs['label'] = y_kmeans\n",
        "\n",
        "songs = songs.sample(frac=1)\n",
        "songs['label'].value_counts()"
      ],
      "execution_count": 26,
      "outputs": [
        {
          "output_type": "execute_result",
          "data": {
            "text/plain": [
              "0    3802\n",
              "2    2698\n",
              "4    2611\n",
              "5    1836\n",
              "3    1657\n",
              "6     823\n",
              "1     579\n",
              "Name: label, dtype: int64"
            ]
          },
          "metadata": {
            "tags": []
          },
          "execution_count": 26
        }
      ]
    },
    {
      "cell_type": "code",
      "metadata": {
        "id": "k_9vWj_E6Z_Y",
        "colab_type": "code",
        "outputId": "9045aa96-d749-4203-9729-d149e38cdacc",
        "colab": {
          "base_uri": "https://localhost:8080/",
          "height": 141
        }
      },
      "source": [
        "songs[songs['label'] == 6].sample(3)"
      ],
      "execution_count": 27,
      "outputs": [
        {
          "output_type": "execute_result",
          "data": {
            "text/html": [
              "<div>\n",
              "<style scoped>\n",
              "    .dataframe tbody tr th:only-of-type {\n",
              "        vertical-align: middle;\n",
              "    }\n",
              "\n",
              "    .dataframe tbody tr th {\n",
              "        vertical-align: top;\n",
              "    }\n",
              "\n",
              "    .dataframe thead th {\n",
              "        text-align: right;\n",
              "    }\n",
              "</style>\n",
              "<table border=\"1\" class=\"dataframe\">\n",
              "  <thead>\n",
              "    <tr style=\"text-align: right;\">\n",
              "      <th></th>\n",
              "      <th>song_name</th>\n",
              "      <th>song_artist</th>\n",
              "      <th>danceability</th>\n",
              "      <th>energy</th>\n",
              "      <th>loudness</th>\n",
              "      <th>speechiness</th>\n",
              "      <th>acousticness</th>\n",
              "      <th>instrumentalness</th>\n",
              "      <th>liveness</th>\n",
              "      <th>valence</th>\n",
              "      <th>tempo</th>\n",
              "      <th>time_signature</th>\n",
              "      <th>label</th>\n",
              "    </tr>\n",
              "  </thead>\n",
              "  <tbody>\n",
              "    <tr>\n",
              "      <th>3122</th>\n",
              "      <td>B Cool (feat. Melanie Faye)</td>\n",
              "      <td>Magroove</td>\n",
              "      <td>0.794</td>\n",
              "      <td>0.368</td>\n",
              "      <td>-12.725</td>\n",
              "      <td>0.0523</td>\n",
              "      <td>0.5590</td>\n",
              "      <td>0.694</td>\n",
              "      <td>0.0864</td>\n",
              "      <td>0.775</td>\n",
              "      <td>140.063</td>\n",
              "      <td>4</td>\n",
              "      <td>6</td>\n",
              "    </tr>\n",
              "    <tr>\n",
              "      <th>18041</th>\n",
              "      <td>Sleep</td>\n",
              "      <td>Bicurious</td>\n",
              "      <td>0.486</td>\n",
              "      <td>0.815</td>\n",
              "      <td>-4.923</td>\n",
              "      <td>0.0391</td>\n",
              "      <td>0.0703</td>\n",
              "      <td>0.726</td>\n",
              "      <td>0.1760</td>\n",
              "      <td>0.611</td>\n",
              "      <td>104.592</td>\n",
              "      <td>4</td>\n",
              "      <td>6</td>\n",
              "    </tr>\n",
              "    <tr>\n",
              "      <th>6126</th>\n",
              "      <td>Triple Darkness</td>\n",
              "      <td>Scan 7</td>\n",
              "      <td>0.721</td>\n",
              "      <td>0.883</td>\n",
              "      <td>-12.631</td>\n",
              "      <td>0.0340</td>\n",
              "      <td>0.0207</td>\n",
              "      <td>0.875</td>\n",
              "      <td>0.0855</td>\n",
              "      <td>0.586</td>\n",
              "      <td>138.007</td>\n",
              "      <td>4</td>\n",
              "      <td>6</td>\n",
              "    </tr>\n",
              "  </tbody>\n",
              "</table>\n",
              "</div>"
            ],
            "text/plain": [
              "                         song_name song_artist  ...  time_signature  label\n",
              "3122   B Cool (feat. Melanie Faye)    Magroove  ...               4      6\n",
              "18041                        Sleep   Bicurious  ...               4      6\n",
              "6126               Triple Darkness      Scan 7  ...               4      6\n",
              "\n",
              "[3 rows x 13 columns]"
            ]
          },
          "metadata": {
            "tags": []
          },
          "execution_count": 27
        }
      ]
    },
    {
      "cell_type": "markdown",
      "metadata": {
        "id": "hz_0mW4G6Z_a",
        "colab_type": "text"
      },
      "source": [
        "### Data Prep and Model Building"
      ]
    },
    {
      "cell_type": "code",
      "metadata": {
        "id": "1s69NEtp6Z_b",
        "colab_type": "code",
        "colab": {}
      },
      "source": [
        "X_train, X_test, y_train, y_test = train_test_split(features_scaled, y_kmeans, test_size=0.2)\n",
        "\n",
        "y_train_binary = to_categorical(y_train)\n",
        "y_test_binary = to_categorical(y_test)"
      ],
      "execution_count": 0,
      "outputs": []
    },
    {
      "cell_type": "code",
      "metadata": {
        "id": "CAkHpGU46Z_e",
        "colab_type": "code",
        "outputId": "77d37c4a-d05e-47fd-c324-8ebdf41cdd4d",
        "colab": {
          "base_uri": "https://localhost:8080/",
          "height": 294
        }
      },
      "source": [
        "model = Sequential([\n",
        "    Input(shape=(X_train.shape[1])),\n",
        "    Dense(128, activation='relu'),\n",
        "    Dense(64, activation='relu'),\n",
        "    Dense(32, activation='relu'),\n",
        "    Dense(7, activation='softmax')\n",
        "])\n",
        "\n",
        "inputs = Input(shape=(10,))\n",
        "\n",
        "model.summary()\n",
        "\n",
        "model.compile('nadam', 'categorical_crossentropy', metrics=['accuracy'])"
      ],
      "execution_count": 29,
      "outputs": [
        {
          "output_type": "stream",
          "text": [
            "Model: \"sequential\"\n",
            "_________________________________________________________________\n",
            "Layer (type)                 Output Shape              Param #   \n",
            "=================================================================\n",
            "dense (Dense)                (None, 128)               1408      \n",
            "_________________________________________________________________\n",
            "dense_1 (Dense)              (None, 64)                8256      \n",
            "_________________________________________________________________\n",
            "dense_2 (Dense)              (None, 32)                2080      \n",
            "_________________________________________________________________\n",
            "dense_3 (Dense)              (None, 7)                 231       \n",
            "=================================================================\n",
            "Total params: 11,975\n",
            "Trainable params: 11,975\n",
            "Non-trainable params: 0\n",
            "_________________________________________________________________\n"
          ],
          "name": "stdout"
        }
      ]
    },
    {
      "cell_type": "code",
      "metadata": {
        "id": "j9Miocdz6Z_g",
        "colab_type": "code",
        "outputId": "2140e73e-799d-45f7-ad0d-e116b0e53a42",
        "colab": {
          "base_uri": "https://localhost:8080/",
          "height": 1000
        }
      },
      "source": [
        "model.fit(X_train, y_train_binary, epochs=100, batch_size=16, validation_split=.2)"
      ],
      "execution_count": 32,
      "outputs": [
        {
          "output_type": "stream",
          "text": [
            "Epoch 1/100\n",
            "561/561 [==============================] - 1s 2ms/step - loss: 0.0738 - accuracy: 0.9681 - val_loss: 0.1010 - val_accuracy: 0.9576\n",
            "Epoch 2/100\n",
            "561/561 [==============================] - 1s 2ms/step - loss: 0.0740 - accuracy: 0.9689 - val_loss: 0.1092 - val_accuracy: 0.9549\n",
            "Epoch 3/100\n",
            "561/561 [==============================] - 1s 2ms/step - loss: 0.0681 - accuracy: 0.9719 - val_loss: 0.1683 - val_accuracy: 0.9389\n",
            "Epoch 4/100\n",
            "561/561 [==============================] - 1s 2ms/step - loss: 0.0652 - accuracy: 0.9723 - val_loss: 0.0609 - val_accuracy: 0.9781\n",
            "Epoch 5/100\n",
            "561/561 [==============================] - 1s 2ms/step - loss: 0.0654 - accuracy: 0.9746 - val_loss: 0.0736 - val_accuracy: 0.9692\n",
            "Epoch 6/100\n",
            "561/561 [==============================] - 1s 2ms/step - loss: 0.0667 - accuracy: 0.9730 - val_loss: 0.1406 - val_accuracy: 0.9482\n",
            "Epoch 7/100\n",
            "561/561 [==============================] - 1s 2ms/step - loss: 0.0630 - accuracy: 0.9731 - val_loss: 0.0804 - val_accuracy: 0.9630\n",
            "Epoch 8/100\n",
            "561/561 [==============================] - 1s 2ms/step - loss: 0.0643 - accuracy: 0.9724 - val_loss: 0.0569 - val_accuracy: 0.9741\n",
            "Epoch 9/100\n",
            "561/561 [==============================] - 1s 2ms/step - loss: 0.0675 - accuracy: 0.9718 - val_loss: 0.1370 - val_accuracy: 0.9531\n",
            "Epoch 10/100\n",
            "561/561 [==============================] - 1s 2ms/step - loss: 0.0638 - accuracy: 0.9715 - val_loss: 0.0490 - val_accuracy: 0.9804\n",
            "Epoch 11/100\n",
            "561/561 [==============================] - 1s 2ms/step - loss: 0.0568 - accuracy: 0.9762 - val_loss: 0.1318 - val_accuracy: 0.9478\n",
            "Epoch 12/100\n",
            "561/561 [==============================] - 1s 2ms/step - loss: 0.0661 - accuracy: 0.9714 - val_loss: 0.0618 - val_accuracy: 0.9719\n",
            "Epoch 13/100\n",
            "561/561 [==============================] - 1s 2ms/step - loss: 0.0630 - accuracy: 0.9739 - val_loss: 0.0626 - val_accuracy: 0.9705\n",
            "Epoch 14/100\n",
            "561/561 [==============================] - 1s 2ms/step - loss: 0.0567 - accuracy: 0.9752 - val_loss: 0.0561 - val_accuracy: 0.9755\n",
            "Epoch 15/100\n",
            "561/561 [==============================] - 1s 2ms/step - loss: 0.0612 - accuracy: 0.9742 - val_loss: 0.1065 - val_accuracy: 0.9563\n",
            "Epoch 16/100\n",
            "561/561 [==============================] - 1s 2ms/step - loss: 0.0567 - accuracy: 0.9757 - val_loss: 0.0785 - val_accuracy: 0.9670\n",
            "Epoch 17/100\n",
            "561/561 [==============================] - 1s 2ms/step - loss: 0.0579 - accuracy: 0.9762 - val_loss: 0.0496 - val_accuracy: 0.9844\n",
            "Epoch 18/100\n",
            "561/561 [==============================] - 1s 2ms/step - loss: 0.0660 - accuracy: 0.9718 - val_loss: 0.0552 - val_accuracy: 0.9759\n",
            "Epoch 19/100\n",
            "561/561 [==============================] - 1s 2ms/step - loss: 0.0553 - accuracy: 0.9775 - val_loss: 0.0488 - val_accuracy: 0.9835\n",
            "Epoch 20/100\n",
            "561/561 [==============================] - 1s 2ms/step - loss: 0.0558 - accuracy: 0.9768 - val_loss: 0.0821 - val_accuracy: 0.9670\n",
            "Epoch 21/100\n",
            "561/561 [==============================] - 1s 2ms/step - loss: 0.0612 - accuracy: 0.9743 - val_loss: 0.0499 - val_accuracy: 0.9826\n",
            "Epoch 22/100\n",
            "561/561 [==============================] - 1s 2ms/step - loss: 0.0600 - accuracy: 0.9752 - val_loss: 0.0477 - val_accuracy: 0.9795\n",
            "Epoch 23/100\n",
            "561/561 [==============================] - 1s 2ms/step - loss: 0.0612 - accuracy: 0.9732 - val_loss: 0.0977 - val_accuracy: 0.9652\n",
            "Epoch 24/100\n",
            "561/561 [==============================] - 1s 2ms/step - loss: 0.0595 - accuracy: 0.9756 - val_loss: 0.0381 - val_accuracy: 0.9875\n",
            "Epoch 25/100\n",
            "561/561 [==============================] - 1s 2ms/step - loss: 0.0551 - accuracy: 0.9780 - val_loss: 0.0673 - val_accuracy: 0.9710\n",
            "Epoch 26/100\n",
            "561/561 [==============================] - 1s 2ms/step - loss: 0.0594 - accuracy: 0.9778 - val_loss: 0.0518 - val_accuracy: 0.9781\n",
            "Epoch 27/100\n",
            "561/561 [==============================] - 1s 2ms/step - loss: 0.0603 - accuracy: 0.9753 - val_loss: 0.1661 - val_accuracy: 0.9482\n",
            "Epoch 28/100\n",
            "561/561 [==============================] - 1s 2ms/step - loss: 0.0526 - accuracy: 0.9771 - val_loss: 0.0416 - val_accuracy: 0.9817\n",
            "Epoch 29/100\n",
            "561/561 [==============================] - 1s 2ms/step - loss: 0.0540 - accuracy: 0.9768 - val_loss: 0.0464 - val_accuracy: 0.9804\n",
            "Epoch 30/100\n",
            "561/561 [==============================] - 1s 2ms/step - loss: 0.0557 - accuracy: 0.9766 - val_loss: 0.0507 - val_accuracy: 0.9772\n",
            "Epoch 31/100\n",
            "561/561 [==============================] - 1s 2ms/step - loss: 0.0548 - accuracy: 0.9769 - val_loss: 0.0642 - val_accuracy: 0.9719\n",
            "Epoch 32/100\n",
            "561/561 [==============================] - 1s 2ms/step - loss: 0.0540 - accuracy: 0.9774 - val_loss: 0.0697 - val_accuracy: 0.9697\n",
            "Epoch 33/100\n",
            "561/561 [==============================] - 1s 2ms/step - loss: 0.0515 - accuracy: 0.9781 - val_loss: 0.0730 - val_accuracy: 0.9683\n",
            "Epoch 34/100\n",
            "561/561 [==============================] - 1s 2ms/step - loss: 0.0561 - accuracy: 0.9767 - val_loss: 0.1295 - val_accuracy: 0.9567\n",
            "Epoch 35/100\n",
            "561/561 [==============================] - 1s 2ms/step - loss: 0.0566 - accuracy: 0.9765 - val_loss: 0.0423 - val_accuracy: 0.9822\n",
            "Epoch 36/100\n",
            "561/561 [==============================] - 1s 2ms/step - loss: 0.0533 - accuracy: 0.9774 - val_loss: 0.0551 - val_accuracy: 0.9781\n",
            "Epoch 37/100\n",
            "561/561 [==============================] - 1s 2ms/step - loss: 0.0474 - accuracy: 0.9796 - val_loss: 0.0576 - val_accuracy: 0.9817\n",
            "Epoch 38/100\n",
            "561/561 [==============================] - 1s 2ms/step - loss: 0.0503 - accuracy: 0.9778 - val_loss: 0.0362 - val_accuracy: 0.9866\n",
            "Epoch 39/100\n",
            "561/561 [==============================] - 1s 2ms/step - loss: 0.0502 - accuracy: 0.9800 - val_loss: 0.0678 - val_accuracy: 0.9755\n",
            "Epoch 40/100\n",
            "561/561 [==============================] - 1s 2ms/step - loss: 0.0588 - accuracy: 0.9766 - val_loss: 0.0556 - val_accuracy: 0.9755\n",
            "Epoch 41/100\n",
            "561/561 [==============================] - 1s 2ms/step - loss: 0.0535 - accuracy: 0.9769 - val_loss: 0.0592 - val_accuracy: 0.9732\n",
            "Epoch 42/100\n",
            "561/561 [==============================] - 1s 2ms/step - loss: 0.0495 - accuracy: 0.9789 - val_loss: 0.0435 - val_accuracy: 0.9826\n",
            "Epoch 43/100\n",
            "561/561 [==============================] - 1s 2ms/step - loss: 0.0467 - accuracy: 0.9808 - val_loss: 0.0721 - val_accuracy: 0.9710\n",
            "Epoch 44/100\n",
            "561/561 [==============================] - 1s 2ms/step - loss: 0.0499 - accuracy: 0.9795 - val_loss: 0.0461 - val_accuracy: 0.9781\n",
            "Epoch 45/100\n",
            "561/561 [==============================] - 1s 2ms/step - loss: 0.0553 - accuracy: 0.9769 - val_loss: 0.0981 - val_accuracy: 0.9612\n",
            "Epoch 46/100\n",
            "561/561 [==============================] - 1s 2ms/step - loss: 0.0495 - accuracy: 0.9796 - val_loss: 0.0344 - val_accuracy: 0.9848\n",
            "Epoch 47/100\n",
            "561/561 [==============================] - 1s 2ms/step - loss: 0.0503 - accuracy: 0.9782 - val_loss: 0.0704 - val_accuracy: 0.9714\n",
            "Epoch 48/100\n",
            "561/561 [==============================] - 1s 2ms/step - loss: 0.0502 - accuracy: 0.9778 - val_loss: 0.0410 - val_accuracy: 0.9817\n",
            "Epoch 49/100\n",
            "561/561 [==============================] - 1s 2ms/step - loss: 0.0487 - accuracy: 0.9806 - val_loss: 0.0558 - val_accuracy: 0.9741\n",
            "Epoch 50/100\n",
            "561/561 [==============================] - 1s 2ms/step - loss: 0.0525 - accuracy: 0.9794 - val_loss: 0.0743 - val_accuracy: 0.9710\n",
            "Epoch 51/100\n",
            "561/561 [==============================] - 1s 2ms/step - loss: 0.0502 - accuracy: 0.9801 - val_loss: 0.0924 - val_accuracy: 0.9656\n",
            "Epoch 52/100\n",
            "561/561 [==============================] - 1s 2ms/step - loss: 0.0464 - accuracy: 0.9815 - val_loss: 0.0538 - val_accuracy: 0.9804\n",
            "Epoch 53/100\n",
            "561/561 [==============================] - 1s 2ms/step - loss: 0.0529 - accuracy: 0.9777 - val_loss: 0.1040 - val_accuracy: 0.9630\n",
            "Epoch 54/100\n",
            "561/561 [==============================] - 1s 2ms/step - loss: 0.0443 - accuracy: 0.9817 - val_loss: 0.0793 - val_accuracy: 0.9692\n",
            "Epoch 55/100\n",
            "561/561 [==============================] - 1s 2ms/step - loss: 0.0493 - accuracy: 0.9794 - val_loss: 0.0452 - val_accuracy: 0.9808\n",
            "Epoch 56/100\n",
            "561/561 [==============================] - 1s 2ms/step - loss: 0.0570 - accuracy: 0.9777 - val_loss: 0.0455 - val_accuracy: 0.9813\n",
            "Epoch 57/100\n",
            "561/561 [==============================] - 1s 2ms/step - loss: 0.0431 - accuracy: 0.9811 - val_loss: 0.1096 - val_accuracy: 0.9630\n",
            "Epoch 58/100\n",
            "561/561 [==============================] - 1s 2ms/step - loss: 0.0474 - accuracy: 0.9810 - val_loss: 0.0450 - val_accuracy: 0.9830\n",
            "Epoch 59/100\n",
            "561/561 [==============================] - 1s 2ms/step - loss: 0.0434 - accuracy: 0.9820 - val_loss: 0.0578 - val_accuracy: 0.9835\n",
            "Epoch 60/100\n",
            "561/561 [==============================] - 1s 2ms/step - loss: 0.0502 - accuracy: 0.9797 - val_loss: 0.0784 - val_accuracy: 0.9683\n",
            "Epoch 61/100\n",
            "561/561 [==============================] - 1s 2ms/step - loss: 0.0435 - accuracy: 0.9815 - val_loss: 0.0567 - val_accuracy: 0.9768\n",
            "Epoch 62/100\n",
            "561/561 [==============================] - 1s 2ms/step - loss: 0.0492 - accuracy: 0.9805 - val_loss: 0.0457 - val_accuracy: 0.9844\n",
            "Epoch 63/100\n",
            "561/561 [==============================] - 1s 2ms/step - loss: 0.0472 - accuracy: 0.9801 - val_loss: 0.0645 - val_accuracy: 0.9741\n",
            "Epoch 64/100\n",
            "561/561 [==============================] - 1s 2ms/step - loss: 0.0413 - accuracy: 0.9820 - val_loss: 0.0733 - val_accuracy: 0.9732\n",
            "Epoch 65/100\n",
            "561/561 [==============================] - 1s 2ms/step - loss: 0.0530 - accuracy: 0.9776 - val_loss: 0.0418 - val_accuracy: 0.9817\n",
            "Epoch 66/100\n",
            "561/561 [==============================] - 1s 2ms/step - loss: 0.0424 - accuracy: 0.9832 - val_loss: 0.1808 - val_accuracy: 0.9415\n",
            "Epoch 67/100\n",
            "561/561 [==============================] - 1s 2ms/step - loss: 0.0515 - accuracy: 0.9780 - val_loss: 0.0453 - val_accuracy: 0.9790\n",
            "Epoch 68/100\n",
            "561/561 [==============================] - 1s 2ms/step - loss: 0.0466 - accuracy: 0.9817 - val_loss: 0.1042 - val_accuracy: 0.9612\n",
            "Epoch 69/100\n",
            "561/561 [==============================] - 1s 2ms/step - loss: 0.0442 - accuracy: 0.9830 - val_loss: 0.0460 - val_accuracy: 0.9853\n",
            "Epoch 70/100\n",
            "561/561 [==============================] - 1s 2ms/step - loss: 0.0423 - accuracy: 0.9826 - val_loss: 0.0679 - val_accuracy: 0.9723\n",
            "Epoch 71/100\n",
            "561/561 [==============================] - 1s 2ms/step - loss: 0.0464 - accuracy: 0.9804 - val_loss: 0.0463 - val_accuracy: 0.9826\n",
            "Epoch 72/100\n",
            "561/561 [==============================] - 1s 2ms/step - loss: 0.0495 - accuracy: 0.9795 - val_loss: 0.0428 - val_accuracy: 0.9844\n",
            "Epoch 73/100\n",
            "561/561 [==============================] - 1s 2ms/step - loss: 0.0494 - accuracy: 0.9797 - val_loss: 0.1219 - val_accuracy: 0.9607\n",
            "Epoch 74/100\n",
            "561/561 [==============================] - 1s 2ms/step - loss: 0.0475 - accuracy: 0.9801 - val_loss: 0.0549 - val_accuracy: 0.9755\n",
            "Epoch 75/100\n",
            "561/561 [==============================] - 1s 2ms/step - loss: 0.0398 - accuracy: 0.9850 - val_loss: 0.0367 - val_accuracy: 0.9839\n",
            "Epoch 76/100\n",
            "561/561 [==============================] - 1s 2ms/step - loss: 0.0399 - accuracy: 0.9833 - val_loss: 0.0528 - val_accuracy: 0.9772\n",
            "Epoch 77/100\n",
            "561/561 [==============================] - 1s 2ms/step - loss: 0.0486 - accuracy: 0.9817 - val_loss: 0.0885 - val_accuracy: 0.9652\n",
            "Epoch 78/100\n",
            "561/561 [==============================] - 1s 2ms/step - loss: 0.0385 - accuracy: 0.9845 - val_loss: 0.0834 - val_accuracy: 0.9661\n",
            "Epoch 79/100\n",
            "561/561 [==============================] - 1s 2ms/step - loss: 0.0444 - accuracy: 0.9815 - val_loss: 0.0395 - val_accuracy: 0.9853\n",
            "Epoch 80/100\n",
            "561/561 [==============================] - 1s 2ms/step - loss: 0.0492 - accuracy: 0.9806 - val_loss: 0.0526 - val_accuracy: 0.9817\n",
            "Epoch 81/100\n",
            "561/561 [==============================] - 1s 2ms/step - loss: 0.0472 - accuracy: 0.9803 - val_loss: 0.0582 - val_accuracy: 0.9723\n",
            "Epoch 82/100\n",
            "561/561 [==============================] - 1s 2ms/step - loss: 0.0439 - accuracy: 0.9810 - val_loss: 0.0530 - val_accuracy: 0.9781\n",
            "Epoch 83/100\n",
            "561/561 [==============================] - 1s 2ms/step - loss: 0.0444 - accuracy: 0.9818 - val_loss: 0.0768 - val_accuracy: 0.9710\n",
            "Epoch 84/100\n",
            "561/561 [==============================] - 1s 2ms/step - loss: 0.0404 - accuracy: 0.9832 - val_loss: 0.0528 - val_accuracy: 0.9768\n",
            "Epoch 85/100\n",
            "561/561 [==============================] - 1s 2ms/step - loss: 0.0449 - accuracy: 0.9825 - val_loss: 0.0540 - val_accuracy: 0.9750\n",
            "Epoch 86/100\n",
            "561/561 [==============================] - 1s 2ms/step - loss: 0.0468 - accuracy: 0.9818 - val_loss: 0.0465 - val_accuracy: 0.9795\n",
            "Epoch 87/100\n",
            "561/561 [==============================] - 1s 2ms/step - loss: 0.0477 - accuracy: 0.9809 - val_loss: 0.0613 - val_accuracy: 0.9723\n",
            "Epoch 88/100\n",
            "561/561 [==============================] - 1s 2ms/step - loss: 0.0408 - accuracy: 0.9839 - val_loss: 0.0520 - val_accuracy: 0.9799\n",
            "Epoch 89/100\n",
            "561/561 [==============================] - 1s 2ms/step - loss: 0.0390 - accuracy: 0.9854 - val_loss: 0.0598 - val_accuracy: 0.9768\n",
            "Epoch 90/100\n",
            "561/561 [==============================] - 1s 2ms/step - loss: 0.0512 - accuracy: 0.9784 - val_loss: 0.0544 - val_accuracy: 0.9795\n",
            "Epoch 91/100\n",
            "561/561 [==============================] - 1s 2ms/step - loss: 0.0391 - accuracy: 0.9835 - val_loss: 0.0345 - val_accuracy: 0.9853\n",
            "Epoch 92/100\n",
            "561/561 [==============================] - 1s 2ms/step - loss: 0.0462 - accuracy: 0.9818 - val_loss: 0.0671 - val_accuracy: 0.9719\n",
            "Epoch 93/100\n",
            "561/561 [==============================] - 1s 2ms/step - loss: 0.0400 - accuracy: 0.9840 - val_loss: 0.0825 - val_accuracy: 0.9710\n",
            "Epoch 94/100\n",
            "561/561 [==============================] - 1s 2ms/step - loss: 0.0450 - accuracy: 0.9824 - val_loss: 0.0508 - val_accuracy: 0.9835\n",
            "Epoch 95/100\n",
            "561/561 [==============================] - 1s 2ms/step - loss: 0.0452 - accuracy: 0.9811 - val_loss: 0.0509 - val_accuracy: 0.9786\n",
            "Epoch 96/100\n",
            "561/561 [==============================] - 1s 2ms/step - loss: 0.0386 - accuracy: 0.9837 - val_loss: 0.1006 - val_accuracy: 0.9674\n",
            "Epoch 97/100\n",
            "561/561 [==============================] - 1s 2ms/step - loss: 0.0397 - accuracy: 0.9842 - val_loss: 0.0488 - val_accuracy: 0.9822\n",
            "Epoch 98/100\n",
            "561/561 [==============================] - 1s 2ms/step - loss: 0.0383 - accuracy: 0.9848 - val_loss: 0.0419 - val_accuracy: 0.9880\n",
            "Epoch 99/100\n",
            "561/561 [==============================] - 1s 2ms/step - loss: 0.0413 - accuracy: 0.9839 - val_loss: 0.0489 - val_accuracy: 0.9813\n",
            "Epoch 100/100\n",
            "561/561 [==============================] - 1s 2ms/step - loss: 0.0436 - accuracy: 0.9825 - val_loss: 0.0814 - val_accuracy: 0.9697\n"
          ],
          "name": "stdout"
        },
        {
          "output_type": "execute_result",
          "data": {
            "text/plain": [
              "<tensorflow.python.keras.callbacks.History at 0x7f313cb63128>"
            ]
          },
          "metadata": {
            "tags": []
          },
          "execution_count": 32
        }
      ]
    },
    {
      "cell_type": "code",
      "metadata": {
        "id": "5lay8HlZ6Z_i",
        "colab_type": "code",
        "outputId": "9f8b4690-94e0-46b9-8bd1-46c0d0a9f123",
        "colab": {
          "base_uri": "https://localhost:8080/",
          "height": 52
        }
      },
      "source": [
        "# model evaluates well on test set - 95.7 %!!!\n",
        "\n",
        "model.evaluate(X_test, y_test_binary)"
      ],
      "execution_count": 33,
      "outputs": [
        {
          "output_type": "stream",
          "text": [
            "88/88 [==============================] - 0s 1ms/step - loss: 0.1196 - accuracy: 0.9579\n"
          ],
          "name": "stdout"
        },
        {
          "output_type": "execute_result",
          "data": {
            "text/plain": [
              "[0.11958218365907669, 0.9578872323036194]"
            ]
          },
          "metadata": {
            "tags": []
          },
          "execution_count": 33
        }
      ]
    },
    {
      "cell_type": "markdown",
      "metadata": {
        "id": "xFH73BdG_vH0",
        "colab_type": "text"
      },
      "source": [
        "**Predicting from API**"
      ]
    },
    {
      "cell_type": "code",
      "metadata": {
        "id": "UszazaGV6Z_n",
        "colab_type": "code",
        "colab": {}
      },
      "source": [
        "# credentials\n",
        "\n",
        "client_credentials_manager = SpotifyClientCredentials(client_id='f13a6b55c2d949939455644bbd6f31d9', client_secret='c7c009270ff0483db51d25543563d55c')\n",
        "sp = spotipy.Spotify(client_credentials_manager=client_credentials_manager)"
      ],
      "execution_count": 0,
      "outputs": []
    },
    {
      "cell_type": "code",
      "metadata": {
        "id": "wZ7kDTte6Z_p",
        "colab_type": "code",
        "outputId": "7d29c09a-084e-4479-b6a7-81f38bb21dc7",
        "colab": {
          "base_uri": "https://localhost:8080/",
          "height": 69
        }
      },
      "source": [
        "# pulling a track from a playlist\n",
        "\n",
        "playlist = sp.playlist('open.spotify.com/playlist/2YRe7HRKNRvXdJBp9nXFza')\n",
        "\n",
        "track_info = dict(song=playlist['tracks']['items'][2]['track']['name'], \n",
        "                  artist=playlist['tracks']['items'][2]['track']['album']['artists'][0]['name'],\n",
        "                  uri=playlist['tracks']['items'][2]['track']['uri'])\n",
        "\n",
        "track_info"
      ],
      "execution_count": 35,
      "outputs": [
        {
          "output_type": "execute_result",
          "data": {
            "text/plain": [
              "{'artist': 'Drake',\n",
              " 'song': 'One Dance',\n",
              " 'uri': 'spotify:track:12VWzyPDBCc8fqeWCAfNwR'}"
            ]
          },
          "metadata": {
            "tags": []
          },
          "execution_count": 35
        }
      ]
    },
    {
      "cell_type": "code",
      "metadata": {
        "id": "2aCuZmo_6Z_r",
        "colab_type": "code",
        "outputId": "3ad15eb7-d8bd-42a8-dbb1-b5b41084ddba",
        "colab": {
          "base_uri": "https://localhost:8080/",
          "height": 329
        }
      },
      "source": [
        "# pulling audio features for selected track\n",
        "\n",
        "track_features = sp.audio_features(track_info['uri'])\n",
        "\n",
        "track_features"
      ],
      "execution_count": 36,
      "outputs": [
        {
          "output_type": "execute_result",
          "data": {
            "text/plain": [
              "[{'acousticness': 0.00776,\n",
              "  'analysis_url': 'https://api.spotify.com/v1/audio-analysis/12VWzyPDBCc8fqeWCAfNwR',\n",
              "  'danceability': 0.792,\n",
              "  'duration_ms': 173987,\n",
              "  'energy': 0.625,\n",
              "  'id': '12VWzyPDBCc8fqeWCAfNwR',\n",
              "  'instrumentalness': 0.00188,\n",
              "  'key': 1,\n",
              "  'liveness': 0.329,\n",
              "  'loudness': -5.609,\n",
              "  'mode': 1,\n",
              "  'speechiness': 0.0536,\n",
              "  'tempo': 103.967,\n",
              "  'time_signature': 4,\n",
              "  'track_href': 'https://api.spotify.com/v1/tracks/12VWzyPDBCc8fqeWCAfNwR',\n",
              "  'type': 'audio_features',\n",
              "  'uri': 'spotify:track:12VWzyPDBCc8fqeWCAfNwR',\n",
              "  'valence': 0.37}]"
            ]
          },
          "metadata": {
            "tags": []
          },
          "execution_count": 36
        }
      ]
    },
    {
      "cell_type": "code",
      "metadata": {
        "id": "Cq-aNDAl6Z_t",
        "colab_type": "code",
        "outputId": "5a6cc350-b235-460f-9537-9ed08fdda928",
        "colab": {
          "base_uri": "https://localhost:8080/",
          "height": 34
        }
      },
      "source": [
        "# trimming to only relevant features\n",
        "\n",
        "track = [track_features[0][i] for i in features]\n",
        "\n",
        "track"
      ],
      "execution_count": 37,
      "outputs": [
        {
          "output_type": "execute_result",
          "data": {
            "text/plain": [
              "[0.792, 0.625, -5.609, 0.0536, 0.00776, 0.00188, 0.329, 0.37, 103.967, 4]"
            ]
          },
          "metadata": {
            "tags": []
          },
          "execution_count": 37
        }
      ]
    },
    {
      "cell_type": "code",
      "metadata": {
        "id": "Uh73H7ll6Z_x",
        "colab_type": "code",
        "colab": {}
      },
      "source": [
        "# scaling for NN\n",
        "\n",
        "track_scaled = scaler.transform(np.array(track).reshape(1, -1))"
      ],
      "execution_count": 0,
      "outputs": []
    },
    {
      "cell_type": "markdown",
      "metadata": {
        "id": "OGVi6ZSL6Z_1",
        "colab_type": "text"
      },
      "source": [
        "## Song Suggestion by euclidean distance\n",
        "\n",
        "In addition to the clustering, we can treat the normalized features themselves as two series representing points and compute the distance between them in euclidean space - the closer together, the more similar they are. \n",
        "\n",
        "Across clusters I'm not sure how indicative of similarity this is, but within clusters it seems to work well.\n",
        "\n",
        "I think we may be able to put some human compute power into investigating the clusters; my feeling is that we can probably associate moods or energy with them."
      ]
    },
    {
      "cell_type": "code",
      "metadata": {
        "id": "cd5Z_mhf6Z_1",
        "colab_type": "code",
        "colab": {}
      },
      "source": [
        "# filtering songs by predicted label of sample track\n",
        "\n",
        "songs = songs.sort_index()\n",
        "\n",
        "filtered_songs = songs[songs['label'] == model.predict_classes(track_scaled)[0]]"
      ],
      "execution_count": 0,
      "outputs": []
    },
    {
      "cell_type": "code",
      "metadata": {
        "id": "f1nmYkIR6Z_3",
        "colab_type": "code",
        "colab": {}
      },
      "source": [
        "# dropping unnecessary columns and renaming for readability\n",
        "\n",
        "songs_scaled = filtered_songs.join(pd.DataFrame(features_scaled)).drop(\n",
        "    labels=features.columns, axis=1)\n",
        "\n",
        "songs_scaled = songs_scaled.rename(\n",
        "    columns={0: features.columns[0],\n",
        "             1: features.columns[1],\n",
        "             2: features.columns[2],\n",
        "             3: features.columns[3],\n",
        "             4: features.columns[4],\n",
        "             5: features.columns[5],\n",
        "             6: features.columns[6],\n",
        "             7: features.columns[7],\n",
        "             8: features.columns[8],\n",
        "             9: features.columns[9]})"
      ],
      "execution_count": 0,
      "outputs": []
    },
    {
      "cell_type": "code",
      "metadata": {
        "id": "BETOvZg56Z_5",
        "colab_type": "code",
        "colab": {}
      },
      "source": [
        "# computing distance from sample track for each track in cluster\n",
        "\n",
        "songs_scaled['distance'] = [(np.linalg.norm(\n",
        "    songs_scaled[features.columns][i:i+1] - track_scaled)) \n",
        "                         for i in range(0, len(songs_scaled))]\n",
        "\n",
        "# filtering to only songs within a certain distance\n",
        "\n",
        "neighbors = songs_scaled[songs_scaled['distance'] < .2].sort_values('distance')"
      ],
      "execution_count": 0,
      "outputs": []
    },
    {
      "cell_type": "code",
      "metadata": {
        "id": "9FEMODFU6Z_7",
        "colab_type": "code",
        "colab": {}
      },
      "source": [
        "# prepping to create results array\n",
        "\n",
        "track_scaled = pd.DataFrame(track_scaled).rename(\n",
        "    columns={0: features.columns[0],\n",
        "             1: features.columns[1],\n",
        "             2: features.columns[2],\n",
        "             3: features.columns[3],\n",
        "             4: features.columns[4],\n",
        "             5: features.columns[5],\n",
        "             6: features.columns[6],\n",
        "             7: features.columns[7],\n",
        "             8: features.columns[8],\n",
        "             9: features.columns[9]})"
      ],
      "execution_count": 0,
      "outputs": []
    },
    {
      "cell_type": "code",
      "metadata": {
        "id": "knlR2NPs6Z_-",
        "colab_type": "code",
        "colab": {}
      },
      "source": [
        "# rejoining artist and title with song features\n",
        "\n",
        "results = pd.DataFrame(track_info, \n",
        "                       index=[0], \n",
        "                       columns=['song', 'artist']\n",
        "                      ).rename(columns={'song': 'song_name',\n",
        "                                        'artist': 'song_artist'}\n",
        "                              )\n",
        "\n",
        "results = pd.concat([results, track_scaled], axis=1)\n",
        "\n",
        "results['label'] = model.predict_classes(track_scaled)\n",
        "\n",
        "# adding sample track to filtered songs\n",
        "\n",
        "results = pd.concat([results, neighbors])\n",
        "\n",
        "# dropping duplicates where name and artist are identical\n",
        "\n",
        "results = results.drop_duplicates(subset=['song_name', 'song_artist'])"
      ],
      "execution_count": 0,
      "outputs": []
    },
    {
      "cell_type": "code",
      "metadata": {
        "id": "rAA_P1Kt6aAA",
        "colab_type": "code",
        "colab": {}
      },
      "source": [
        "result_df = pd.concat([results[:1], results.sample(6).sort_values('distance')])"
      ],
      "execution_count": 0,
      "outputs": []
    },
    {
      "cell_type": "code",
      "metadata": {
        "id": "KJ982g9QBUzU",
        "colab_type": "code",
        "outputId": "666a096e-43cb-4007-a4ca-07856519b78b",
        "colab": {
          "base_uri": "https://localhost:8080/",
          "height": 264
        }
      },
      "source": [
        "result_df"
      ],
      "execution_count": 47,
      "outputs": [
        {
          "output_type": "execute_result",
          "data": {
            "text/html": [
              "<div>\n",
              "<style scoped>\n",
              "    .dataframe tbody tr th:only-of-type {\n",
              "        vertical-align: middle;\n",
              "    }\n",
              "\n",
              "    .dataframe tbody tr th {\n",
              "        vertical-align: top;\n",
              "    }\n",
              "\n",
              "    .dataframe thead th {\n",
              "        text-align: right;\n",
              "    }\n",
              "</style>\n",
              "<table border=\"1\" class=\"dataframe\">\n",
              "  <thead>\n",
              "    <tr style=\"text-align: right;\">\n",
              "      <th></th>\n",
              "      <th>song_name</th>\n",
              "      <th>song_artist</th>\n",
              "      <th>danceability</th>\n",
              "      <th>energy</th>\n",
              "      <th>loudness</th>\n",
              "      <th>speechiness</th>\n",
              "      <th>acousticness</th>\n",
              "      <th>instrumentalness</th>\n",
              "      <th>liveness</th>\n",
              "      <th>valence</th>\n",
              "      <th>tempo</th>\n",
              "      <th>time_signature</th>\n",
              "      <th>label</th>\n",
              "      <th>distance</th>\n",
              "    </tr>\n",
              "  </thead>\n",
              "  <tbody>\n",
              "    <tr>\n",
              "      <th>0</th>\n",
              "      <td>One Dance</td>\n",
              "      <td>Drake</td>\n",
              "      <td>0.802432</td>\n",
              "      <td>0.625224</td>\n",
              "      <td>0.821723</td>\n",
              "      <td>0.056961</td>\n",
              "      <td>0.007790</td>\n",
              "      <td>0.001886</td>\n",
              "      <td>0.326223</td>\n",
              "      <td>0.376016</td>\n",
              "      <td>0.429052</td>\n",
              "      <td>0.8</td>\n",
              "      <td>2</td>\n",
              "      <td>NaN</td>\n",
              "    </tr>\n",
              "    <tr>\n",
              "      <th>8638</th>\n",
              "      <td>Black Beatles</td>\n",
              "      <td>Rae Sremmurd</td>\n",
              "      <td>0.758865</td>\n",
              "      <td>0.717415</td>\n",
              "      <td>0.803162</td>\n",
              "      <td>0.084697</td>\n",
              "      <td>0.022790</td>\n",
              "      <td>0.000000</td>\n",
              "      <td>0.258538</td>\n",
              "      <td>0.406504</td>\n",
              "      <td>0.433179</td>\n",
              "      <td>0.8</td>\n",
              "      <td>2</td>\n",
              "      <td>0.131406</td>\n",
              "    </tr>\n",
              "    <tr>\n",
              "      <th>10554</th>\n",
              "      <td>Lucy</td>\n",
              "      <td>Cuco</td>\n",
              "      <td>0.824721</td>\n",
              "      <td>0.676330</td>\n",
              "      <td>0.762645</td>\n",
              "      <td>0.037088</td>\n",
              "      <td>0.030822</td>\n",
              "      <td>0.011434</td>\n",
              "      <td>0.374423</td>\n",
              "      <td>0.313008</td>\n",
              "      <td>0.503425</td>\n",
              "      <td>0.8</td>\n",
              "      <td>2</td>\n",
              "      <td>0.139428</td>\n",
              "    </tr>\n",
              "    <tr>\n",
              "      <th>70</th>\n",
              "      <td>Wake Up in the Sky</td>\n",
              "      <td>Gucci Mane</td>\n",
              "      <td>0.810537</td>\n",
              "      <td>0.578127</td>\n",
              "      <td>0.833247</td>\n",
              "      <td>0.051541</td>\n",
              "      <td>0.003824</td>\n",
              "      <td>0.000000</td>\n",
              "      <td>0.356989</td>\n",
              "      <td>0.372967</td>\n",
              "      <td>0.590175</td>\n",
              "      <td>0.8</td>\n",
              "      <td>2</td>\n",
              "      <td>0.171411</td>\n",
              "    </tr>\n",
              "    <tr>\n",
              "      <th>6519</th>\n",
              "      <td>Million Reasons</td>\n",
              "      <td>Lady Gaga</td>\n",
              "      <td>0.764944</td>\n",
              "      <td>0.575120</td>\n",
              "      <td>0.752757</td>\n",
              "      <td>0.071520</td>\n",
              "      <td>0.044477</td>\n",
              "      <td>0.001274</td>\n",
              "      <td>0.271870</td>\n",
              "      <td>0.501016</td>\n",
              "      <td>0.354881</td>\n",
              "      <td>0.8</td>\n",
              "      <td>2</td>\n",
              "      <td>0.185232</td>\n",
              "    </tr>\n",
              "    <tr>\n",
              "      <th>3709</th>\n",
              "      <td>PICK IT UP (feat. A$AP Rocky)</td>\n",
              "      <td>Famous Dex</td>\n",
              "      <td>0.842958</td>\n",
              "      <td>0.686351</td>\n",
              "      <td>0.826779</td>\n",
              "      <td>0.168969</td>\n",
              "      <td>0.012248</td>\n",
              "      <td>0.000000</td>\n",
              "      <td>0.331351</td>\n",
              "      <td>0.487805</td>\n",
              "      <td>0.507383</td>\n",
              "      <td>0.8</td>\n",
              "      <td>2</td>\n",
              "      <td>0.191396</td>\n",
              "    </tr>\n",
              "    <tr>\n",
              "      <th>0</th>\n",
              "      <td>One Dance</td>\n",
              "      <td>Drake</td>\n",
              "      <td>0.802432</td>\n",
              "      <td>0.625224</td>\n",
              "      <td>0.821723</td>\n",
              "      <td>0.056961</td>\n",
              "      <td>0.007790</td>\n",
              "      <td>0.001886</td>\n",
              "      <td>0.326223</td>\n",
              "      <td>0.376016</td>\n",
              "      <td>0.429052</td>\n",
              "      <td>0.8</td>\n",
              "      <td>2</td>\n",
              "      <td>NaN</td>\n",
              "    </tr>\n",
              "  </tbody>\n",
              "</table>\n",
              "</div>"
            ],
            "text/plain": [
              "                           song_name   song_artist  ...  label  distance\n",
              "0                          One Dance         Drake  ...      2       NaN\n",
              "8638                   Black Beatles  Rae Sremmurd  ...      2  0.131406\n",
              "10554                           Lucy          Cuco  ...      2  0.139428\n",
              "70                Wake Up in the Sky    Gucci Mane  ...      2  0.171411\n",
              "6519                 Million Reasons     Lady Gaga  ...      2  0.185232\n",
              "3709   PICK IT UP (feat. A$AP Rocky)    Famous Dex  ...      2  0.191396\n",
              "0                          One Dance         Drake  ...      2       NaN\n",
              "\n",
              "[7 rows x 14 columns]"
            ]
          },
          "metadata": {
            "tags": []
          },
          "execution_count": 47
        }
      ]
    },
    {
      "cell_type": "markdown",
      "metadata": {
        "id": "jGdpBOy46aAC",
        "colab_type": "text"
      },
      "source": [
        "### Random Song Suggestion Based On Sample Track"
      ]
    },
    {
      "cell_type": "code",
      "metadata": {
        "id": "GMPqkdoB6aAD",
        "colab_type": "code",
        "outputId": "4cbe1481-ac28-4f38-bae8-a3804d939a7b",
        "colab": {
          "base_uri": "https://localhost:8080/",
          "height": 80
        }
      },
      "source": [
        "results.sample(1)"
      ],
      "execution_count": 48,
      "outputs": [
        {
          "output_type": "execute_result",
          "data": {
            "text/html": [
              "<div>\n",
              "<style scoped>\n",
              "    .dataframe tbody tr th:only-of-type {\n",
              "        vertical-align: middle;\n",
              "    }\n",
              "\n",
              "    .dataframe tbody tr th {\n",
              "        vertical-align: top;\n",
              "    }\n",
              "\n",
              "    .dataframe thead th {\n",
              "        text-align: right;\n",
              "    }\n",
              "</style>\n",
              "<table border=\"1\" class=\"dataframe\">\n",
              "  <thead>\n",
              "    <tr style=\"text-align: right;\">\n",
              "      <th></th>\n",
              "      <th>song_name</th>\n",
              "      <th>song_artist</th>\n",
              "      <th>danceability</th>\n",
              "      <th>energy</th>\n",
              "      <th>loudness</th>\n",
              "      <th>speechiness</th>\n",
              "      <th>acousticness</th>\n",
              "      <th>instrumentalness</th>\n",
              "      <th>liveness</th>\n",
              "      <th>valence</th>\n",
              "      <th>tempo</th>\n",
              "      <th>time_signature</th>\n",
              "      <th>label</th>\n",
              "      <th>distance</th>\n",
              "    </tr>\n",
              "  </thead>\n",
              "  <tbody>\n",
              "    <tr>\n",
              "      <th>0</th>\n",
              "      <td>One Dance</td>\n",
              "      <td>Drake</td>\n",
              "      <td>0.802432</td>\n",
              "      <td>0.625224</td>\n",
              "      <td>0.821723</td>\n",
              "      <td>0.056961</td>\n",
              "      <td>0.00779</td>\n",
              "      <td>0.001886</td>\n",
              "      <td>0.326223</td>\n",
              "      <td>0.376016</td>\n",
              "      <td>0.429052</td>\n",
              "      <td>0.8</td>\n",
              "      <td>2</td>\n",
              "      <td>NaN</td>\n",
              "    </tr>\n",
              "  </tbody>\n",
              "</table>\n",
              "</div>"
            ],
            "text/plain": [
              "   song_name song_artist  danceability  ...  time_signature  label  distance\n",
              "0  One Dance       Drake      0.802432  ...             0.8      2       NaN\n",
              "\n",
              "[1 rows x 14 columns]"
            ]
          },
          "metadata": {
            "tags": []
          },
          "execution_count": 48
        }
      ]
    },
    {
      "cell_type": "markdown",
      "metadata": {
        "id": "iLq7897W6aAG",
        "colab_type": "text"
      },
      "source": [
        "### Sample Track + All Tracks In Cluster, By Distance"
      ]
    },
    {
      "cell_type": "code",
      "metadata": {
        "id": "uccwUTwB6aAG",
        "colab_type": "code",
        "outputId": "4a7c3040-95ff-4875-e868-ad6786ff3aeb",
        "colab": {
          "base_uri": "https://localhost:8080/",
          "height": 325
        }
      },
      "source": [
        "pd.concat([results[:1], results.sort_values('distance')[:-1]])"
      ],
      "execution_count": 49,
      "outputs": [
        {
          "output_type": "execute_result",
          "data": {
            "text/html": [
              "<div>\n",
              "<style scoped>\n",
              "    .dataframe tbody tr th:only-of-type {\n",
              "        vertical-align: middle;\n",
              "    }\n",
              "\n",
              "    .dataframe tbody tr th {\n",
              "        vertical-align: top;\n",
              "    }\n",
              "\n",
              "    .dataframe thead th {\n",
              "        text-align: right;\n",
              "    }\n",
              "</style>\n",
              "<table border=\"1\" class=\"dataframe\">\n",
              "  <thead>\n",
              "    <tr style=\"text-align: right;\">\n",
              "      <th></th>\n",
              "      <th>song_name</th>\n",
              "      <th>song_artist</th>\n",
              "      <th>danceability</th>\n",
              "      <th>energy</th>\n",
              "      <th>loudness</th>\n",
              "      <th>speechiness</th>\n",
              "      <th>acousticness</th>\n",
              "      <th>instrumentalness</th>\n",
              "      <th>liveness</th>\n",
              "      <th>valence</th>\n",
              "      <th>tempo</th>\n",
              "      <th>time_signature</th>\n",
              "      <th>label</th>\n",
              "      <th>distance</th>\n",
              "    </tr>\n",
              "  </thead>\n",
              "  <tbody>\n",
              "    <tr>\n",
              "      <th>0</th>\n",
              "      <td>One Dance</td>\n",
              "      <td>Drake</td>\n",
              "      <td>0.802432</td>\n",
              "      <td>0.625224</td>\n",
              "      <td>0.821723</td>\n",
              "      <td>0.056961</td>\n",
              "      <td>0.007790</td>\n",
              "      <td>0.001886</td>\n",
              "      <td>0.326223</td>\n",
              "      <td>0.376016</td>\n",
              "      <td>0.429052</td>\n",
              "      <td>0.8</td>\n",
              "      <td>2</td>\n",
              "      <td>NaN</td>\n",
              "    </tr>\n",
              "    <tr>\n",
              "      <th>8638</th>\n",
              "      <td>Black Beatles</td>\n",
              "      <td>Rae Sremmurd</td>\n",
              "      <td>0.758865</td>\n",
              "      <td>0.717415</td>\n",
              "      <td>0.803162</td>\n",
              "      <td>0.084697</td>\n",
              "      <td>0.022790</td>\n",
              "      <td>0.000000</td>\n",
              "      <td>0.258538</td>\n",
              "      <td>0.406504</td>\n",
              "      <td>0.433179</td>\n",
              "      <td>0.8</td>\n",
              "      <td>2</td>\n",
              "      <td>0.131406</td>\n",
              "    </tr>\n",
              "    <tr>\n",
              "      <th>10554</th>\n",
              "      <td>Lucy</td>\n",
              "      <td>Cuco</td>\n",
              "      <td>0.824721</td>\n",
              "      <td>0.676330</td>\n",
              "      <td>0.762645</td>\n",
              "      <td>0.037088</td>\n",
              "      <td>0.030822</td>\n",
              "      <td>0.011434</td>\n",
              "      <td>0.374423</td>\n",
              "      <td>0.313008</td>\n",
              "      <td>0.503425</td>\n",
              "      <td>0.8</td>\n",
              "      <td>2</td>\n",
              "      <td>0.139428</td>\n",
              "    </tr>\n",
              "    <tr>\n",
              "      <th>70</th>\n",
              "      <td>Wake Up in the Sky</td>\n",
              "      <td>Gucci Mane</td>\n",
              "      <td>0.810537</td>\n",
              "      <td>0.578127</td>\n",
              "      <td>0.833247</td>\n",
              "      <td>0.051541</td>\n",
              "      <td>0.003824</td>\n",
              "      <td>0.000000</td>\n",
              "      <td>0.356989</td>\n",
              "      <td>0.372967</td>\n",
              "      <td>0.590175</td>\n",
              "      <td>0.8</td>\n",
              "      <td>2</td>\n",
              "      <td>0.171411</td>\n",
              "    </tr>\n",
              "    <tr>\n",
              "      <th>7697</th>\n",
              "      <td>Розовое вино</td>\n",
              "      <td>Allj</td>\n",
              "      <td>0.875380</td>\n",
              "      <td>0.631237</td>\n",
              "      <td>0.785741</td>\n",
              "      <td>0.109458</td>\n",
              "      <td>0.024296</td>\n",
              "      <td>0.000000</td>\n",
              "      <td>0.183673</td>\n",
              "      <td>0.369919</td>\n",
              "      <td>0.454176</td>\n",
              "      <td>0.8</td>\n",
              "      <td>2</td>\n",
              "      <td>0.175137</td>\n",
              "    </tr>\n",
              "    <tr>\n",
              "      <th>6519</th>\n",
              "      <td>Million Reasons</td>\n",
              "      <td>Lady Gaga</td>\n",
              "      <td>0.764944</td>\n",
              "      <td>0.575120</td>\n",
              "      <td>0.752757</td>\n",
              "      <td>0.071520</td>\n",
              "      <td>0.044477</td>\n",
              "      <td>0.001274</td>\n",
              "      <td>0.271870</td>\n",
              "      <td>0.501016</td>\n",
              "      <td>0.354881</td>\n",
              "      <td>0.8</td>\n",
              "      <td>2</td>\n",
              "      <td>0.185232</td>\n",
              "    </tr>\n",
              "    <tr>\n",
              "      <th>3709</th>\n",
              "      <td>PICK IT UP (feat. A$AP Rocky)</td>\n",
              "      <td>Famous Dex</td>\n",
              "      <td>0.842958</td>\n",
              "      <td>0.686351</td>\n",
              "      <td>0.826779</td>\n",
              "      <td>0.168969</td>\n",
              "      <td>0.012248</td>\n",
              "      <td>0.000000</td>\n",
              "      <td>0.331351</td>\n",
              "      <td>0.487805</td>\n",
              "      <td>0.507383</td>\n",
              "      <td>0.8</td>\n",
              "      <td>2</td>\n",
              "      <td>0.191396</td>\n",
              "    </tr>\n",
              "    <tr>\n",
              "      <th>9343</th>\n",
              "      <td>Blood Diamonds</td>\n",
              "      <td>The Game</td>\n",
              "      <td>0.766971</td>\n",
              "      <td>0.672322</td>\n",
              "      <td>0.799048</td>\n",
              "      <td>0.101488</td>\n",
              "      <td>0.018674</td>\n",
              "      <td>0.000000</td>\n",
              "      <td>0.150856</td>\n",
              "      <td>0.388211</td>\n",
              "      <td>0.462186</td>\n",
              "      <td>0.8</td>\n",
              "      <td>2</td>\n",
              "      <td>0.195178</td>\n",
              "    </tr>\n",
              "    <tr>\n",
              "      <th>100</th>\n",
              "      <td>Don't Werk</td>\n",
              "      <td>Paula DeAnda</td>\n",
              "      <td>0.712259</td>\n",
              "      <td>0.617208</td>\n",
              "      <td>0.744331</td>\n",
              "      <td>0.077683</td>\n",
              "      <td>0.108433</td>\n",
              "      <td>0.000056</td>\n",
              "      <td>0.266742</td>\n",
              "      <td>0.442073</td>\n",
              "      <td>0.508254</td>\n",
              "      <td>0.8</td>\n",
              "      <td>2</td>\n",
              "      <td>0.197284</td>\n",
              "    </tr>\n",
              "  </tbody>\n",
              "</table>\n",
              "</div>"
            ],
            "text/plain": [
              "                           song_name   song_artist  ...  label  distance\n",
              "0                          One Dance         Drake  ...      2       NaN\n",
              "8638                   Black Beatles  Rae Sremmurd  ...      2  0.131406\n",
              "10554                           Lucy          Cuco  ...      2  0.139428\n",
              "70                Wake Up in the Sky    Gucci Mane  ...      2  0.171411\n",
              "7697                    Розовое вино          Allj  ...      2  0.175137\n",
              "6519                 Million Reasons     Lady Gaga  ...      2  0.185232\n",
              "3709   PICK IT UP (feat. A$AP Rocky)    Famous Dex  ...      2  0.191396\n",
              "9343                  Blood Diamonds      The Game  ...      2  0.195178\n",
              "100                       Don't Werk  Paula DeAnda  ...      2  0.197284\n",
              "\n",
              "[9 rows x 14 columns]"
            ]
          },
          "metadata": {
            "tags": []
          },
          "execution_count": 49
        }
      ]
    },
    {
      "cell_type": "code",
      "metadata": {
        "id": "bu_xrd7iHA7S",
        "colab_type": "code",
        "outputId": "d5c97ef0-ec16-4ab7-d29d-dec8d057fd94",
        "colab": {
          "base_uri": "https://localhost:8080/",
          "height": 381
        }
      },
      "source": [
        "import pandas as pd\n",
        "import numpy as np\n",
        "from sklearn.preprocessing import MinMaxScaler\n",
        "from sklearn.cluster import KMeans\n",
        "from sklearn.model_selection import train_test_split\n",
        "from tensorflow.keras.utils import to_categorical\n",
        "import tensorflow as tf\n",
        "from tensorflow.keras.models import Sequential, model_from_json\n",
        "from tensorflow.keras.layers import Input, Dense, Activation\n",
        "import json\n",
        "\n",
        "#Loading and preparing the data\n",
        "\n",
        "# kaggle data loaded from github repo\n",
        "songs = pd.read_csv('https://raw.githubusercontent.com/Jllin50/DS/master/data/song_data.csv')\n",
        "song_info = pd.read_csv('https://raw.githubusercontent.com/Jllin50/DS/master/data/song_info.csv')\n",
        "\n",
        "#cleaning songs df\n",
        "songs = songs.rename(columns={'audio_valence': 'valence'})\n",
        "songs.insert(loc=1, column='song_artist', value=song_info['artist_name'])\n",
        "songs = songs.drop(labels=['song_popularity', 'song_duration_ms', 'key', 'audio_mode'], axis=1)\n",
        "cols = ['song_name', 'song_artist', 'danceability', 'energy', 'loudness', 'speechiness', 'acousticness', 'instrumentalness', 'liveness', 'valence', 'tempo', 'time_signature']\n",
        "songs = songs[cols]\n",
        "\n",
        "#creating a scaled features df from the song df\n",
        "features = songs.drop(labels=['song_name', 'song_artist'], axis=1)\n",
        "scaler = MinMaxScaler()\n",
        "features_scaled = scaler.fit_transform(features)\n",
        "\n",
        "# implementing kmeans\n",
        "np.random.seed(42)\n",
        "kmeans = KMeans(n_clusters=7)\n",
        "kmeans.fit(features_scaled)\n",
        "\n",
        "#cluster predictions for each song\n",
        "y_kmeans = kmeans.predict(features_scaled)\n",
        "\n",
        "#adding song kmean group label to song df \n",
        "songs['label'] = y_kmeans\n",
        "songs = songs.sample(frac=1)\n",
        "\n",
        "#train test split\n",
        "X_train, X_test, y_train, y_test = train_test_split(features_scaled, y_kmeans, test_size=0.2)\n",
        "\n",
        "y_train_binary = to_categorical(y_train)\n",
        "y_test_binary = to_categorical(y_test)\n",
        "\n",
        "# #neural network\n",
        "model = Sequential([\n",
        "    Input(shape=(X_train.shape[1])),\n",
        "    Dense(128, activation='relu'),\n",
        "    Dense(64, activation='relu'),\n",
        "    Dense(32, activation='relu'),\n",
        "    Dense(7, activation='softmax')\n",
        "])\n",
        "\n",
        "inputs = Input(shape=(10,))\n",
        "\n",
        "model.compile('adam', 'categorical_crossentropy', metrics=['accuracy'])\n",
        "\n",
        "model.fit(X_train, y_train_binary, epochs=10, batch_size=16, validation_split=.2)"
      ],
      "execution_count": 50,
      "outputs": [
        {
          "output_type": "stream",
          "text": [
            "Epoch 1/10\n",
            "754/754 [==============================] - 2s 2ms/step - loss: 0.4441 - accuracy: 0.8537 - val_loss: 0.1837 - val_accuracy: 0.9287\n",
            "Epoch 2/10\n",
            "754/754 [==============================] - 1s 2ms/step - loss: 0.1584 - accuracy: 0.9386 - val_loss: 0.1865 - val_accuracy: 0.9107\n",
            "Epoch 3/10\n",
            "754/754 [==============================] - 1s 2ms/step - loss: 0.1321 - accuracy: 0.9496 - val_loss: 0.1117 - val_accuracy: 0.9599\n",
            "Epoch 4/10\n",
            "754/754 [==============================] - 1s 2ms/step - loss: 0.1130 - accuracy: 0.9549 - val_loss: 0.1273 - val_accuracy: 0.9423\n",
            "Epoch 5/10\n",
            "754/754 [==============================] - 1s 2ms/step - loss: 0.1117 - accuracy: 0.9531 - val_loss: 0.0877 - val_accuracy: 0.9658\n",
            "Epoch 6/10\n",
            "754/754 [==============================] - 1s 2ms/step - loss: 0.1048 - accuracy: 0.9564 - val_loss: 0.0928 - val_accuracy: 0.9622\n",
            "Epoch 7/10\n",
            "754/754 [==============================] - 1s 2ms/step - loss: 0.0987 - accuracy: 0.9598 - val_loss: 0.1049 - val_accuracy: 0.9545\n",
            "Epoch 8/10\n",
            "754/754 [==============================] - 1s 2ms/step - loss: 0.0879 - accuracy: 0.9651 - val_loss: 0.1214 - val_accuracy: 0.9479\n",
            "Epoch 9/10\n",
            "754/754 [==============================] - 1s 2ms/step - loss: 0.0883 - accuracy: 0.9638 - val_loss: 0.1317 - val_accuracy: 0.9406\n",
            "Epoch 10/10\n",
            "754/754 [==============================] - 1s 2ms/step - loss: 0.0772 - accuracy: 0.9684 - val_loss: 0.0665 - val_accuracy: 0.9731\n"
          ],
          "name": "stdout"
        },
        {
          "output_type": "execute_result",
          "data": {
            "text/plain": [
              "<tensorflow.python.keras.callbacks.History at 0x7f3149e0c2b0>"
            ]
          },
          "metadata": {
            "tags": []
          },
          "execution_count": 50
        }
      ]
    },
    {
      "cell_type": "code",
      "metadata": {
        "id": "sHdtmpOgxrtE",
        "colab_type": "code",
        "colab": {}
      },
      "source": [
        "# Save the weights\n",
        "model.save_weights('model_weights.h5')\n",
        "\n",
        "# Save the model architecture\n",
        "with open('model_architecture.json', 'w') as f:\n",
        "    f.write(model.to_json())"
      ],
      "execution_count": 0,
      "outputs": []
    },
    {
      "cell_type": "code",
      "metadata": {
        "id": "qv-pUbL4EseU",
        "colab_type": "code",
        "colab": {}
      },
      "source": [
        "#main function\n",
        "def take_ten(a_list):\n",
        "  '''takes input list for 1 song and returns a json file with the 10 most similar songs''' \n",
        "  global track_info\n",
        "\n",
        "  #setting static variables for results_dataframe function\n",
        "  input_scaled = np.empty((1,10))\n",
        "  track_info = dict({'artist': a_list[1], 'song': a_list[0]})\n",
        "\n",
        "  #saving results as json\n",
        "  results_df = results_dataframe(find_neighbors(scaled_songs(adj_input(a_list))))[['song_name', 'song_artist']]\n",
        "  results_df.to_json('results.json', orient='records')\n",
        "  with open('results.json') as json_file:\n",
        "    json_data = json.load(json_file)\n",
        "\n",
        "  return json_data"
      ],
      "execution_count": 0,
      "outputs": []
    },
    {
      "cell_type": "code",
      "metadata": {
        "id": "3Ez6VZ64E66z",
        "colab_type": "code",
        "colab": {}
      },
      "source": [
        "#sub functions\n",
        "def adj_input(the_list):\n",
        "    '''takes an input list and returns cleaned and scaled version'''\n",
        "    global a_list\n",
        "\n",
        "    a_list = the_list\n",
        "    input_vector = a_list[2:]\n",
        "    input_scaled = scaler.transform(np.array(input_vector).reshape(1, -1))\n",
        "    return input_scaled\n",
        "\n",
        "def scaled_songs(a_array):\n",
        "    '''takes scaled input array and returns a df with scaled values'''\n",
        "    global songs\n",
        "    \n",
        "    #filtering songs by predicted label of sample track\n",
        "    songs = songs.sort_index()\n",
        "\n",
        "    filtered_songs = songs[songs['label'] == model.predict_classes(a_array)[0]]\n",
        "\n",
        "    # dropping unnecessary columns and renaming for readability\n",
        "\n",
        "    songs_scaled = filtered_songs.join(pd.DataFrame(features_scaled)).drop(\n",
        "    labels=features.columns, axis=1)\n",
        "\n",
        "    songs_scaled = songs_scaled.rename(\n",
        "    columns={0: features.columns[0],\n",
        "             1: features.columns[1],\n",
        "             2: features.columns[2],\n",
        "             3: features.columns[3],\n",
        "             4: features.columns[4],\n",
        "             5: features.columns[5],\n",
        "             6: features.columns[6],\n",
        "             7: features.columns[7],\n",
        "             8: features.columns[8],\n",
        "             9: features.columns[9]})\n",
        "\n",
        "    return songs_scaled \n",
        "\n",
        "def find_neighbors(a_df):\n",
        "    '''takes scaled df and returns df filtered for songs near to sample '''\n",
        "    global a_list\n",
        "\n",
        "    # computing distance from sample track for each track in cluster\n",
        "\n",
        "    a_df['distance'] = [(np.linalg.norm(\n",
        "    a_df[features.columns][i:i+1] - adj_input(a_list))) \n",
        "    for i in range(0, len(a_df))]\n",
        "\n",
        "    # filtering to only songs within a certain distance\n",
        "\n",
        "    neighbors = a_df[a_df['distance'] < .2].sort_values('distance')\n",
        "\n",
        "    return neighbors\n",
        "\n",
        "def results_dataframe(neighbors):\n",
        "\n",
        "    # turning input scaled to df\n",
        "    global input_scaled\n",
        "    global track_info\n",
        "\n",
        "    # neighbors = find_neighbors(scaled_songs(adj_input(a_list)))\n",
        "\n",
        "    input_scaled = pd.DataFrame(adj_input(a_list)).rename(\n",
        "    columns={0: features.columns[0],\n",
        "             1: features.columns[1],\n",
        "             2: features.columns[2],\n",
        "             3: features.columns[3],\n",
        "             4: features.columns[4],\n",
        "             5: features.columns[5],\n",
        "             6: features.columns[6],\n",
        "             7: features.columns[7],\n",
        "             8: features.columns[8],\n",
        "             9: features.columns[9]})\n",
        "\n",
        "    # rejoining artist and title with song features\n",
        "\n",
        "    results = pd.DataFrame(track_info, \n",
        "                       index=[0], \n",
        "                       columns=['song', 'artist']\n",
        "                      ).rename(columns={'song': 'song_name',\n",
        "                                        'artist': 'song_artist'}\n",
        "                              )\n",
        "\n",
        "    results = pd.concat([results, input_scaled], axis=1)\n",
        "\n",
        "    results['label'] = model.predict_classes(input_scaled)\n",
        "    \n",
        "    # adding sample track to filtered songs\n",
        "\n",
        "    results = pd.concat([results, neighbors])\n",
        "\n",
        "    # dropping duplicates where name and artist are identical\n",
        "\n",
        "    results = results.drop_duplicates(subset=['song_name', 'song_artist'])\n",
        "\n",
        "    #return top 10 song names with artist\n",
        "    result_df = pd.concat([results[:1], results.sample(10).sort_values('distance')])\n",
        "\n",
        "    result_df = result_df[['song_name','song_artist']]\n",
        "\n",
        "    result_df = pd.concat([results[:1], results.sample(10).sort_values('distance')])\n",
        "\n",
        "    return result_df"
      ],
      "execution_count": 0,
      "outputs": []
    },
    {
      "cell_type": "code",
      "metadata": {
        "id": "Op1wKOFcFLrb",
        "colab_type": "code",
        "colab": {}
      },
      "source": [
        "#example use \n",
        "the_list = ['rockstar (feat. 21 Savage)', 'Post Malone', 0.585, 0.52, -6.136, 0.0712, 0.124, 7.01e-05, 0.131, 0.129, 159.801, 4]"
      ],
      "execution_count": 0,
      "outputs": []
    },
    {
      "cell_type": "code",
      "metadata": {
        "id": "vdAw5AOXGDlH",
        "colab_type": "code",
        "outputId": "b3989a28-b814-4541-cc6c-bdb585e25150",
        "colab": {
          "base_uri": "https://localhost:8080/",
          "height": 54
        }
      },
      "source": [
        "print(take_ten(the_list))"
      ],
      "execution_count": 55,
      "outputs": [
        {
          "output_type": "stream",
          "text": [
            "[{'song_name': 'rockstar (feat. 21 Savage)', 'song_artist': 'Post Malone'}, {'song_name': 'Us Ft. Lil Peep & Lil Tracy', 'song_artist': 'SinceWhen'}, {'song_name': 'Chains', 'song_artist': 'Nick Jonas'}, {'song_name': 'Just Say When (Version 2.0)', 'song_artist': 'Nothing More'}, {'song_name': 'Dancing Shoes', 'song_artist': 'Green River Ordinance'}, {'song_name': 'I Believe in a Thing Called Love', 'song_artist': 'Branches'}, {'song_name': 'Sky Walker', 'song_artist': 'Miguel'}, {'song_name': 'Tu No Eres Ganga', 'song_artist': 'Lito Kirino'}, {'song_name': 'Cold Showers', 'song_artist': 'Chelsea Cutler'}, {'song_name': 'Silver Lining', 'song_artist': 'Mt. Joy'}, {'song_name': 'Somebody That I Used to Know', 'song_artist': 'Pentatonix'}]\n"
          ],
          "name": "stdout"
        }
      ]
    }
  ]
}